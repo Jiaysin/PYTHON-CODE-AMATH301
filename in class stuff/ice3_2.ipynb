{
 "cells": [
  {
   "cell_type": "markdown",
   "id": "20583ecf-44de-4e54-af5f-50cbc3273ddf",
   "metadata": {},
   "source": [
    "In-class exercise 3.2\n",
    "UW AMATH 301 - Jakob Kotas"
   ]
  },
  {
   "cell_type": "code",
   "execution_count": 45,
   "id": "3e975ff7-52ba-4e91-aa67-24b1e7f750c5",
   "metadata": {},
   "outputs": [],
   "source": [
    "import numpy as np\n",
    "import math"
   ]
  },
  {
   "cell_type": "code",
   "execution_count": 3,
   "id": "ae525348-2c8b-4aa0-b203-c81848e10d91",
   "metadata": {},
   "outputs": [],
   "source": [
    "#1\n",
    "\n",
    "def f(t):\n",
    "    return t**0.5\n",
    "\n",
    "def g(t): #antiderivative of f(t), ignore +c\n",
    "    return 2/3*t**(3/2)"
   ]
  },
  {
   "cell_type": "code",
   "execution_count": 43,
   "id": "4bcb1716-8e0b-47e7-8142-cc03ded17e1e",
   "metadata": {},
   "outputs": [
    {
     "name": "stdout",
     "output_type": "stream",
     "text": [
      "midpoint = 5.352257377040016\n",
      "trapezoid = 5.265041772995635\n",
      "simpsons = 5.3231855090252225\n",
      "true = 5.333333333333333\n",
      "rel.error midpoint = 0.00354825819500304\n",
      "rel.error trapezoid = 0.012970753753173492\n",
      "rel.error simpsons = 0.0019063442915722895\n"
     ]
    }
   ],
   "source": [
    "#1\n",
    "\n",
    "a = 0\n",
    "b = 4\n",
    "N = 8\n",
    "#N = 80\n",
    "\n",
    "xvec = np.linspace(a,b,N+1) #N subintervals = N+1 points\n",
    "h = (b-a)/N\n",
    "\n",
    "#true value\n",
    "integral_true = g(b)-g(a) #f.t.c.\n",
    "\n",
    "#midpoint rule\n",
    "integral_mid = 0\n",
    "for k in range(0,N):\n",
    "    integral_mid += f((xvec[k]+xvec[k+1])/2)\n",
    "integral_mid = integral_mid*h\n",
    "error_mid = np.abs((integral_mid-integral_true)/integral_true)\n",
    "\n",
    "#trapezoid rule\n",
    "integral_trap = f(xvec[0])+f(xvec[N])\n",
    "for k in range(1,N):\n",
    "    integral_trap += 2*f(xvec[k])\n",
    "integral_trap = integral_trap*h/2\n",
    "error_trap = np.abs((integral_trap-integral_true)/integral_trap)\n",
    "\n",
    "#simpson's rule\n",
    "xvec = np.linspace(a,b,2*N+1) #N subintervals = 2N+1 points\n",
    "h = (b-a)/(2*N)\n",
    "\n",
    "integral_simp = f(xvec[0])+f(xvec[2*N])\n",
    "for k in range(1,2*N,2): #half-integer subscripts\n",
    "    integral_simp += 4*f(xvec[k])\n",
    "for k in range(2,2*N-1,2): #integer subscripts\n",
    "    integral_simp += 2*f(xvec[k])\n",
    "integral_simp = integral_simp*h/3\n",
    "error_simp = np.abs((integral_simp-integral_true)/integral_simp)\n",
    "\n",
    "print('midpoint =',integral_mid)\n",
    "print('trapezoid =',integral_trap)\n",
    "print('simpsons =',integral_simp)\n",
    "print('true =',integral_true)\n",
    "print('rel.error midpoint =',error_mid)\n",
    "print('rel.error trapezoid =',error_trap)\n",
    "print('rel.error simpsons =',error_simp)"
   ]
  },
  {
   "cell_type": "code",
   "execution_count": 65,
   "id": "cc308ed3-a4ab-4f3c-b88b-fa4be9f196ca",
   "metadata": {},
   "outputs": [
    {
     "name": "stdout",
     "output_type": "stream",
     "text": [
      "approx integral = 0.6826894924576158\n",
      "true integral = 0.6826894921370856\n",
      "number of subintervals = 64\n"
     ]
    }
   ],
   "source": [
    "#2\n",
    "\n",
    "def f(x):\n",
    "    return np.exp(-x**2/2)/np.sqrt(2*np.pi)\n",
    "\n",
    "a = -1\n",
    "b = 1\n",
    "N = 2 #number of subintervals to begin with\n",
    "integral_L = 0 #random guess to begin with\n",
    "\n",
    "for i in range(1,101):\n",
    "    xvec = np.linspace(a,b,2*N+1) #N subintervals = 2N+1 points\n",
    "    h = (b-a)/(2*N)\n",
    "\n",
    "    integral_simp = f(xvec[0])+f(xvec[2*N])\n",
    "    for k in range(1,2*N,2): #half-integer subscripts\n",
    "        integral_simp += 4*f(xvec[k])\n",
    "    for k in range(2,2*N-1,2): #integer subscripts\n",
    "        integral_simp += 2*f(xvec[k])\n",
    "    integral_simp = integral_simp*h/3\n",
    "\n",
    "    integral_S = integral_simp\n",
    "    error = np.abs((integral_S-integral_L)/integral_S)\n",
    "    if error < 1e-8:\n",
    "        break\n",
    "    integral_L = integral_S\n",
    "    N = N*2\n",
    "\n",
    "def phi(x):\n",
    "    return (1+math.erf(x/np.sqrt(2)))/2\n",
    "integral_true = phi(1)-phi(-1)\n",
    "\n",
    "print('approx integral =',integral_S)\n",
    "print('true integral =',integral_true)\n",
    "print('number of subintervals =',N)"
   ]
  },
  {
   "cell_type": "code",
   "execution_count": null,
   "id": "764b775a-e644-4e80-8008-5c9c0a5aaef4",
   "metadata": {},
   "outputs": [],
   "source": []
  }
 ],
 "metadata": {
  "kernelspec": {
   "display_name": "Python 3 (ipykernel)",
   "language": "python",
   "name": "python3"
  },
  "language_info": {
   "codemirror_mode": {
    "name": "ipython",
    "version": 3
   },
   "file_extension": ".py",
   "mimetype": "text/x-python",
   "name": "python",
   "nbconvert_exporter": "python",
   "pygments_lexer": "ipython3",
   "version": "3.12.7"
  }
 },
 "nbformat": 4,
 "nbformat_minor": 5
}
