{
  "cells": [
    {
      "cell_type": "markdown",
      "metadata": {
        "id": "VE8x9Z066VI6"
      },
      "source": [
        "In-class exercise 2.2\n",
        "UW AMATH 301 - Jakob Kotas"
      ]
    },
    {
      "cell_type": "code",
      "execution_count": 1,
      "metadata": {
        "id": "OTjIsgjy7Gak"
      },
      "outputs": [],
      "source": [
        "import numpy as np"
      ]
    },
    {
      "cell_type": "code",
      "execution_count": 2,
      "metadata": {
        "colab": {
          "base_uri": "https://localhost:8080/"
        },
        "id": "xJwNS6ND6QrI",
        "outputId": "27afaedd-790e-4d5d-ec60-a456f5b0dde5"
      },
      "outputs": [
        {
          "name": "stdout",
          "output_type": "stream",
          "text": [
            "10\n",
            "1.9999818725585938\n",
            "3.999993408203125\n",
            "3.0000092285156246\n"
          ]
        }
      ],
      "source": [
        "#Kutz code for Jacobi iteration\n",
        "#solves [[4,-1,1],[4,-8,1],[-2,1,5]] * [[x],[y],[z]] = [[7],[-21],[15]] approximately\n",
        "\n",
        "x = np.array([0]); y = np.array([0]); z = np.array([0])\n",
        "for j in range(100):\n",
        "    x = np.append( x, (7+y[j]-z[j])/4 )\n",
        "    y = np.append( y, (21+4*x[j]+z[j])/8 )\n",
        "    z = np.append( z, (15+2*x[j]-y[j])/5 )\n",
        "\n",
        "    if abs(x[j+1]-x[j]) < 1e-5:\n",
        "        break\n",
        "\n",
        "print(j)\n",
        "print(x[j + 1])\n",
        "print(y[j + 1])\n",
        "print(z[j + 1])"
      ]
    },
    {
      "cell_type": "code",
      "execution_count": 17,
      "metadata": {
        "colab": {
          "base_uri": "https://localhost:8080/"
        },
        "id": "VZZxQZb-8yk7",
        "outputId": "1fca4a0d-5fc3-4bcd-de90-490a0d9fc0ae"
      },
      "outputs": [
        {
          "name": "stdout",
          "output_type": "stream",
          "text": [
            "iterations = 57\n",
            "solution using Jacobi =\n",
            "-4.000001246355898\n",
            "-1.0000031944432533\n",
            "6.9999980043808\n",
            "solution using np.linalg.solve =\n",
            "[[-4.]\n",
            " [-1.]\n",
            " [ 7.]]\n",
            "det(A) = 49.000000000000014\n"
          ]
        }
      ],
      "source": [
        "#1a\n",
        "\n",
        "x1 = np.array([0]); x2 = np.array([0]); x3 = np.array([0])\n",
        "for j in range(100):\n",
        "    x1 = np.append( x1, (-14-x2[j]-x3[j])/5 )\n",
        "    x2 = np.append( x2, (25-4*x3[j])/3 )\n",
        "    x3 = np.append( x3, (5-4*x1[j])/3 )\n",
        "\n",
        "    if np.linalg.norm(np.array([x1[j+1]-x1[j],x2[j+1]-x2[j],x3[j+1]-x3[j]])) < 1e-5:\n",
        "        break\n",
        "\n",
        "print('iterations =',j)\n",
        "print('solution using Jacobi =')\n",
        "print(x1[j + 1])\n",
        "print(x2[j + 1])\n",
        "print(x3[j + 1])\n",
        "print('solution using np.linalg.solve =')\n",
        "A = np.array([[5,1,1],[0,3,4],[4,0,3]])\n",
        "b = np.array([[-14],[25],[5]])\n",
        "print(np.linalg.solve(A,b))\n",
        "print('det(A) =',np.linalg.det(A))"
      ]
    },
    {
      "cell_type": "code",
      "execution_count": 26,
      "metadata": {
        "colab": {
          "base_uri": "https://localhost:8080/"
        },
        "id": "XIF4nLd3_kS9",
        "outputId": "4434a0b2-ea8e-447d-a39d-88d41f74a324"
      },
      "outputs": [
        {
          "name": "stdout",
          "output_type": "stream",
          "text": [
            "iterations = 99\n",
            "solution using Jacobi =\n",
            "1.2122527818199668e+44\n",
            "6.512766161625519e+43\n",
            "6.774199099818321e+43\n",
            "solution using np.linalg.solve =\n",
            "[[ 5.]\n",
            " [-2.]\n",
            " [-3.]]\n",
            "det(A) = 1.0\n"
          ]
        }
      ],
      "source": [
        "#1b\n",
        "\n",
        "x1 = np.array([0]); x2 = np.array([0]); x3 = np.array([0])\n",
        "for j in range(100):\n",
        "    x1 = np.append( x1, -8-2*x2[j]-3*x3[j] )\n",
        "    x2 = np.append( x2, (-19-2*x1[j]-7*x3[j])/4 )\n",
        "    x3 = np.append( x3, -x1[j]-x2[j] )\n",
        "\n",
        "    if np.linalg.norm(np.array([x1[j+1]-x1[j],x2[j+1]-x2[j],x3[j+1]-x3[j]])) < 1e-5:\n",
        "        break\n",
        "\n",
        "print('iterations =',j)\n",
        "print('solution using Jacobi =') #diverges\n",
        "print(x1[j + 1])\n",
        "print(x2[j + 1])\n",
        "print(x3[j + 1])\n",
        "print('solution using np.linalg.solve =')\n",
        "A = np.array([[1,2,3],[2,4,7],[1,1,1]])\n",
        "b = np.array([[-8],[-19],[0]])\n",
        "print(np.linalg.solve(A,b))\n",
        "print('det(A) =',np.linalg.det(A))"
      ]
    },
    {
      "cell_type": "code",
      "execution_count": 23,
      "metadata": {
        "colab": {
          "base_uri": "https://localhost:8080/"
        },
        "id": "UUMbtIgUAD_d",
        "outputId": "497cdd30-2c34-439e-ea04-328669549528"
      },
      "outputs": [
        {
          "name": "stdout",
          "output_type": "stream",
          "text": [
            "iterations = 99\n",
            "solution using Jacobi =\n",
            "-1.1175225540235982e+30\n",
            "-5.87830726779293e+29\n",
            "-3.46884546114077e+29\n",
            "solution using np.linalg.solve =\n",
            "det(A) = 0.0\n"
          ]
        }
      ],
      "source": [
        "#1c\n",
        "\n",
        "x1 = np.array([0]); x2 = np.array([0]); x3 = np.array([0])\n",
        "for j in range(100):\n",
        "    x1 = np.append( x1, 6-2*x2[j]-3*x3[j] )\n",
        "    x2 = np.append( x2, (13-2*x1[j]-7*x3[j])/4 )\n",
        "    x3 = np.append( x3, (19-3*x1[j]-6*x2[j])/10 )\n",
        "\n",
        "    if np.linalg.norm(np.array([x1[j+1]-x1[j],x2[j+1]-x2[j],x3[j+1]-x3[j]])) < 1e-5:\n",
        "        break\n",
        "\n",
        "print('iterations =',j)\n",
        "print('solution using Jacobi =') #diverges\n",
        "print(x1[j + 1])\n",
        "print(x2[j + 1])\n",
        "print(x3[j + 1])\n",
        "print('solution using np.linalg.solve =')\n",
        "A = np.array([[1,2,3],[2,4,7],[3,6,10]])\n",
        "b = np.array([[6],[13],[19]])\n",
        "#print(np.linalg.solve(A,b)) #fails with error\n",
        "print('det(A) =',np.linalg.det(A))"
      ]
    },
    {
      "cell_type": "code",
      "execution_count": 30,
      "metadata": {
        "colab": {
          "base_uri": "https://localhost:8080/"
        },
        "id": "Xrpx0EbxBWCZ",
        "outputId": "f87bb2bb-c5f1-4bf9-f47f-4cd037ee0e29"
      },
      "outputs": [
        {
          "name": "stdout",
          "output_type": "stream",
          "text": [
            "iterations = 28\n",
            "solution using Jacobi =\n",
            "-3.9999993337640847\n",
            "-0.999995210348235\n",
            "6.9999991116854465\n",
            "solution using np.linalg.solve =\n",
            "[[-4.]\n",
            " [-1.]\n",
            " [ 7.]]\n",
            "det(A) = 49.000000000000014\n"
          ]
        }
      ],
      "source": [
        "#2\n",
        "\n",
        "#leaving equations in the order they were given\n",
        "x1 = np.array([0]); x2 = np.array([0]); x3 = np.array([0])\n",
        "for j in range(100):\n",
        "    x1 = np.append( x1, (-14-x2[j]-x3[j])/5 )\n",
        "    x2 = np.append( x2, (25-4*x3[j])/3 )\n",
        "    x3 = np.append( x3, (5-4*x1[j+1])/3 )\n",
        "\n",
        "    if np.linalg.norm(np.array([x1[j+1]-x1[j],x2[j+1]-x2[j],x3[j+1]-x3[j]])) < 1e-5:\n",
        "        break\n",
        "\n",
        "print('iterations =',j)\n",
        "print('solution using Jacobi =')\n",
        "print(x1[j + 1])\n",
        "print(x2[j + 1])\n",
        "print(x3[j + 1])\n",
        "print('solution using np.linalg.solve =')\n",
        "A = np.array([[5,1,1],[0,3,4],[4,0,3]])\n",
        "b = np.array([[-14],[25],[5]])\n",
        "print(np.linalg.solve(A,b))\n",
        "print('det(A) =',np.linalg.det(A))"
      ]
    },
    {
      "cell_type": "code",
      "execution_count": 31,
      "metadata": {
        "colab": {
          "base_uri": "https://localhost:8080/"
        },
        "id": "pRKfkJvzDmPT",
        "outputId": "9e254322-0c49-4150-fb3e-64ee7843cd2a"
      },
      "outputs": [
        {
          "name": "stdout",
          "output_type": "stream",
          "text": [
            "iterations = 7\n",
            "solution using Jacobi =\n",
            "-3.999999984410226\n",
            "-1.0000003117954748\n",
            "7.000000233846606\n",
            "solution using np.linalg.solve =\n",
            "[[-4.]\n",
            " [-1.]\n",
            " [ 7.]]\n",
            "det(A) = 49.000000000000014\n"
          ]
        }
      ],
      "source": [
        "#2\n",
        "\n",
        "#rearrange equations\n",
        "x1 = np.array([0]); x2 = np.array([0]); x3 = np.array([0])\n",
        "for j in range(100):\n",
        "    x3 = np.append( x3, (5-4*x1[j])/3 )\n",
        "    x2 = np.append( x2, (25-4*x3[j+1])/3 )\n",
        "    x1 = np.append( x1, (-14-x2[j+1]-x3[j+1])/5 )\n",
        "\n",
        "    if np.linalg.norm(np.array([x1[j+1]-x1[j],x2[j+1]-x2[j],x3[j+1]-x3[j]])) < 1e-5:\n",
        "        break\n",
        "\n",
        "print('iterations =',j)\n",
        "print('solution using Jacobi =')\n",
        "print(x1[j + 1])\n",
        "print(x2[j + 1])\n",
        "print(x3[j + 1])\n",
        "print('solution using np.linalg.solve =')\n",
        "A = np.array([[5,1,1],[0,3,4],[4,0,3]])\n",
        "b = np.array([[-14],[25],[5]])\n",
        "print(np.linalg.solve(A,b))\n",
        "print('det(A) =',np.linalg.det(A))"
      ]
    },
    {
      "cell_type": "code",
      "execution_count": null,
      "metadata": {
        "id": "k7FGZ-vBEqQQ"
      },
      "outputs": [],
      "source": []
    }
  ],
  "metadata": {
    "colab": {
      "provenance": []
    },
    "kernelspec": {
      "display_name": "Python 3",
      "name": "python3"
    },
    "language_info": {
      "name": "python"
    }
  },
  "nbformat": 4,
  "nbformat_minor": 0
}
