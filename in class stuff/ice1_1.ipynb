{
 "cells": [
  {
   "cell_type": "markdown",
   "id": "26a887f2-8c33-4446-a891-cab8492810e2",
   "metadata": {
    "id": "26a887f2-8c33-4446-a891-cab8492810e2"
   },
   "source": [
    "In-class exercise 1.1\n",
    "UW AMATH 301 - Jakob Kotas"
   ]
  },
  {
   "cell_type": "code",
   "execution_count": 36,
   "id": "325e228a-7f13-4feb-8f7e-66b358521edb",
   "metadata": {
    "colab": {
     "base_uri": "https://localhost:8080/",
     "height": 69
    },
    "id": "325e228a-7f13-4feb-8f7e-66b358521edb",
    "outputId": "22b2e124-7f06-4f4f-9b7f-14481fc1e00c"
   },
   "outputs": [],
   "source": [
    "#1a\n",
    "\n",
    "import numpy as np\n",
    "x1 = np.array([np.sqrt(2), np.pi])\n",
    "x2 = np.matrix([np.sqrt(2), np.pi])\n",
    "x3 = np.matrix([2**0.5, np.pi]) #2^(0.5)\n",
    "\n",
    "#display(x1)\n",
    "#display(x2)\n",
    "#display(x3)"
   ]
  },
  {
   "cell_type": "code",
   "execution_count": 38,
   "id": "5b8566ce-10ce-446a-9486-e960a040ba86",
   "metadata": {
    "colab": {
     "base_uri": "https://localhost:8080/",
     "height": 86
    },
    "id": "5b8566ce-10ce-446a-9486-e960a040ba86",
    "outputId": "ffb1e73c-ea85-4a14-c8ac-b8a03a339623"
   },
   "outputs": [],
   "source": [
    "#1b\n",
    "\n",
    "y1 = np.array([[np.e], [4-3j]])\n",
    "y2 = np.matrix([[np.e], [4-3j]])\n",
    "\n",
    "#display(y1)\n",
    "#display(y2)"
   ]
  },
  {
   "cell_type": "code",
   "execution_count": 40,
   "id": "5795682a-4c1a-4cc5-861f-97cdf79f5fa0",
   "metadata": {
    "colab": {
     "base_uri": "https://localhost:8080/",
     "height": 104
    },
    "id": "5795682a-4c1a-4cc5-861f-97cdf79f5fa0",
    "outputId": "68d202d8-71c0-49d8-a052-54723e1f6596"
   },
   "outputs": [],
   "source": [
    "#1c\n",
    "\n",
    "z1 = x1.T #np.array ignores whether vector is row or column\n",
    "z2 = x2.T #np.matrix preserves dimension of vector\n",
    "z3 = y1.T\n",
    "z4 = y2.T\n",
    "\n",
    "#display(z1)\n",
    "#display(z2)\n",
    "#display(z3)\n",
    "#display(z4)"
   ]
  },
  {
   "cell_type": "code",
   "execution_count": 42,
   "id": "e6b0a44a-1a91-4690-a64b-1a59527e43a0",
   "metadata": {
    "colab": {
     "base_uri": "https://localhost:8080/",
     "height": 86
    },
    "id": "e6b0a44a-1a91-4690-a64b-1a59527e43a0",
    "outputId": "9be93a02-776e-43f4-ab7b-685471ba7f11"
   },
   "outputs": [],
   "source": [
    "#2a\n",
    "\n",
    "x1 = np.arange(5, 21, 1) #begin at 5 (inclusive), end at 21 (exclusive), in increments of 1\n",
    "x2 = np.arange(5, 21) #default value of increment if left blank is 1\n",
    "x3 = np.arange(5, 20.1) #any ending value in (20,21] should work\n",
    "                        #vector contains floating point values, not integers. maybe not what we want\n",
    "\n",
    "#display(x1)\n",
    "#display(x2)\n",
    "#display(x3)"
   ]
  },
  {
   "cell_type": "code",
   "execution_count": 44,
   "id": "c0e6cba4-0555-4130-b3b6-63ba5d9a376a",
   "metadata": {
    "colab": {
     "base_uri": "https://localhost:8080/",
     "height": 121
    },
    "id": "c0e6cba4-0555-4130-b3b6-63ba5d9a376a",
    "outputId": "864b7f04-23c0-4770-eefb-cc44da9f98ed"
   },
   "outputs": [],
   "source": [
    "#2b\n",
    "\n",
    "y1 = np.arange(1.05, 1.21, 0.01)\n",
    "y2 = np.arange(105, 121)/100\n",
    "y3 = x1*0.01+1 #use result from part 2a\n",
    "\n",
    "#display(y1)\n",
    "#display(y2)\n",
    "#display(y3)"
   ]
  },
  {
   "cell_type": "code",
   "execution_count": 46,
   "id": "20eb82c0-8968-475a-adad-29de90e304a6",
   "metadata": {
    "colab": {
     "base_uri": "https://localhost:8080/",
     "height": 225
    },
    "id": "20eb82c0-8968-475a-adad-29de90e304a6",
    "outputId": "49496a53-1c9c-49d8-b78e-fb177330a796"
   },
   "outputs": [],
   "source": [
    "#2c\n",
    "\n",
    "z1 = 1/np.arange(5, 21, 1)\n",
    "z2 = 1/x1 #use result from 2a\n",
    "z3 = x3**-1\n",
    "#z4 = x1**-1 #this doesn't work. why?-- further reading: https://stackoverflow.com/questions/43287311/why-cant-i-raise-to-a-negative-power-in-numpy\n",
    "\n",
    "#display(z1)\n",
    "#display(z2)\n",
    "#display(z3)\n",
    "#display(z4)"
   ]
  },
  {
   "cell_type": "code",
   "execution_count": 48,
   "id": "cdb7bb0a-5332-497b-9159-a7e2e46f0629",
   "metadata": {
    "colab": {
     "base_uri": "https://localhost:8080/",
     "height": 121
    },
    "id": "cdb7bb0a-5332-497b-9159-a7e2e46f0629",
    "outputId": "35f1ce1d-8398-41a3-ce94-750d3b16de02"
   },
   "outputs": [],
   "source": [
    "#2d\n",
    "\n",
    "p1 = 10**np.arange(10, 1, -1)\n",
    "p2 = 10**np.flip(np.arange(2,11,1)) #np.flip flips the elements of the vector\n",
    "p3 = 10**np.flip(np.arange(2,11))\n",
    "\n",
    "#display(p1)\n",
    "#display(p2)\n",
    "#display(p3)"
   ]
  },
  {
   "cell_type": "code",
   "execution_count": 50,
   "id": "EfX_6X8rmvy8",
   "metadata": {
    "colab": {
     "base_uri": "https://localhost:8080/",
     "height": 121
    },
    "id": "EfX_6X8rmvy8",
    "outputId": "3066bb14-fddb-43c8-82cb-1ebbd56139ba"
   },
   "outputs": [],
   "source": [
    "#2e\n",
    "\n",
    "q1 = np.sin(np.arange(0,np.pi*7/6,np.pi/6)) #pay attention to the last entry in the vector\n",
    "q2 = np.sin(np.arange(0,7)*np.pi/6)\n",
    "x = np.arange(0,7)*np.pi/6\n",
    "q3 = np.sin(x)\n",
    "\n",
    "#display(q1)\n",
    "#display(q2)\n",
    "#display(q3)"
   ]
  },
  {
   "cell_type": "code",
   "execution_count": 52,
   "id": "1e6792e5-65b3-442d-b0c1-513653ad706c",
   "metadata": {
    "colab": {
     "base_uri": "https://localhost:8080/",
     "height": 104
    },
    "id": "1e6792e5-65b3-442d-b0c1-513653ad706c",
    "outputId": "f98dc1a2-0726-468d-ced4-ef1d9091470d"
   },
   "outputs": [],
   "source": [
    "#3a\n",
    "\n",
    "b = np.array([17, 11, -4, 0, -15])\n",
    "A = np.array([[-7,3,0], [1,4,1], [-1,0,6], [0,-8,5], [-2,-2,2]])\n",
    "\n",
    "x1 = b[0] #first element\n",
    "x2 = b[2] #third element\n",
    "x3a = b[4] #fifth element\n",
    "x3b = b[-1] #last element-- better if you don't know / care about the length\n",
    "x3c = b[len(b)-1] #len(b) means number of elements in b\n",
    "\n",
    "#display(x1)\n",
    "#display(x2)\n",
    "#display(x3a)\n",
    "#display(x3b)\n",
    "#display(x3c)"
   ]
  },
  {
   "cell_type": "code",
   "execution_count": 54,
   "id": "1b05f437-a73e-447b-a5c3-e0bdd0cbbef1",
   "metadata": {
    "colab": {
     "base_uri": "https://localhost:8080/",
     "height": 34
    },
    "id": "1b05f437-a73e-447b-a5c3-e0bdd0cbbef1",
    "outputId": "93d3c2ff-368b-4d29-d95e-f72a77b906d5"
   },
   "outputs": [],
   "source": [
    "#3b\n",
    "\n",
    "y = A[3,1] #4th row, 2nd column\n",
    "\n",
    "#display(y)"
   ]
  },
  {
   "cell_type": "code",
   "execution_count": 56,
   "id": "56fd9c32-ad36-4d96-ab9c-ab7330e5d911",
   "metadata": {
    "colab": {
     "base_uri": "https://localhost:8080/",
     "height": 138
    },
    "id": "56fd9c32-ad36-4d96-ab9c-ab7330e5d911",
    "outputId": "7c1b86b0-d13a-41c8-ba2a-68f7c2714914"
   },
   "outputs": [],
   "source": [
    "#3c\n",
    "\n",
    "z1 = A[3,:] #4th row, all columns\n",
    "p1 = A[:,1] #all rows, 2nd column\n",
    "\n",
    "A = np.matrix([[-7,3,0], [1,4,1], [-1,0,6], [0,-8,5], [-2,-2,2]])\n",
    "z2 = A[3,:]\n",
    "p2 = A[:,1]\n",
    "\n",
    "#display(z1)\n",
    "#display(p1)\n",
    "#display(z2)\n",
    "#display(p2)"
   ]
  },
  {
   "cell_type": "code",
   "execution_count": 58,
   "id": "25738344-3154-4822-9832-5064e946af8b",
   "metadata": {
    "colab": {
     "base_uri": "https://localhost:8080/",
     "height": 121
    },
    "id": "25738344-3154-4822-9832-5064e946af8b",
    "outputId": "5b0e51d8-c71b-4b5f-8255-2d4df173ff81"
   },
   "outputs": [],
   "source": [
    "#3d\n",
    "\n",
    "B1 = A[np.arange(1,4),:] #np.arange(1,4) is the vector [1,2,3], so this is the second, third, and fourth rows, all columns\n",
    "B2 = A[1:4,:] #colon notation is shorter than np.arange\n",
    "\n",
    "#display(B1)\n",
    "#display(B2)"
   ]
  },
  {
   "cell_type": "code",
   "execution_count": 60,
   "id": "JsYYTd31owlL",
   "metadata": {
    "colab": {
     "base_uri": "https://localhost:8080/",
     "height": 121
    },
    "id": "JsYYTd31owlL",
    "outputId": "394e3b9f-2ebf-4276-e9c1-f535bdcc019e"
   },
   "outputs": [],
   "source": [
    "#3e\n",
    "\n",
    "C1 = A[np.arange(0,5,2),:] #np.arange(0,5,2) is the vector [0,2,4], so this is the first, third, and fourth rows\n",
    "C2 = A[0:5:2,:] #colon notation: different from Matlab\n",
    "\n",
    "#display(C1)\n",
    "#display(C2)"
   ]
  },
  {
   "cell_type": "code",
   "execution_count": 62,
   "id": "7a861564-40e8-42ea-b379-9bb351ba0dd5",
   "metadata": {
    "colab": {
     "base_uri": "https://localhost:8080/",
     "height": 34
    },
    "id": "7a861564-40e8-42ea-b379-9bb351ba0dd5",
    "outputId": "e940d9ea-3ad3-4b0b-d33a-fc188eb93b4f"
   },
   "outputs": [],
   "source": [
    "#4a\n",
    "\n",
    "v = np.array([10, 56, 24, 19, 88, 37, 60, 70, 22, 56])\n",
    "vlessthan20 = v<20 #try to make variable names helpful\n",
    "#display(vlessthan20) #boolean vector\n",
    "#display(vlessthan20*1) #0 and 1 vector\n",
    "\n",
    "a = v[vlessthan20]\n",
    "\n",
    "#display(a)"
   ]
  },
  {
   "cell_type": "code",
   "execution_count": 64,
   "id": "dfe65236-2e95-48ab-ace4-6947f8b6610c",
   "metadata": {
    "colab": {
     "base_uri": "https://localhost:8080/",
     "height": 34
    },
    "id": "dfe65236-2e95-48ab-ace4-6947f8b6610c",
    "outputId": "6e676327-5b62-44b7-ab73-8a671550a5ce"
   },
   "outputs": [],
   "source": [
    "#4b\n",
    "\n",
    "#vgreaterthanorequalto20 = v>=20 #yawn\n",
    "vgreaterthanorequalto20 = ~vlessthan20 #~ means \"not\"\n",
    "#display(vgreaterthanorequalto20)\n",
    "\n",
    "b = v[vgreaterthanorequalto20]\n",
    "\n",
    "#display(b)"
   ]
  },
  {
   "cell_type": "code",
   "execution_count": 66,
   "id": "50b1fb9a-054c-4b13-a26a-b5df25f95cf4",
   "metadata": {
    "colab": {
     "base_uri": "https://localhost:8080/",
     "height": 34
    },
    "id": "50b1fb9a-054c-4b13-a26a-b5df25f95cf4",
    "outputId": "0d72fd53-4c4d-4361-ba67-798ca98b8377"
   },
   "outputs": [],
   "source": [
    "#4c\n",
    "\n",
    "c = np.mean(b)\n",
    "\n",
    "#display(c)"
   ]
  },
  {
   "cell_type": "code",
   "execution_count": 68,
   "id": "QYqPjeLAjyw8",
   "metadata": {
    "colab": {
     "base_uri": "https://localhost:8080/",
     "height": 34
    },
    "id": "QYqPjeLAjyw8",
    "outputId": "d88857d1-08e8-4f78-f2fe-226319439d2b"
   },
   "outputs": [],
   "source": [
    "#4d\n",
    "\n",
    "d = v\n",
    "d[d<20] = 99\n",
    "\n",
    "#display(d)"
   ]
  },
  {
   "cell_type": "code",
   "execution_count": null,
   "id": "1628dcb5-0ace-422b-a377-fbe1477af247",
   "metadata": {},
   "outputs": [],
   "source": []
  }
 ],
 "metadata": {
  "colab": {
   "provenance": []
  },
  "kernelspec": {
   "display_name": "Python 3 (ipykernel)",
   "language": "python",
   "name": "python3"
  },
  "language_info": {
   "codemirror_mode": {
    "name": "ipython",
    "version": 3
   },
   "file_extension": ".py",
   "mimetype": "text/x-python",
   "name": "python",
   "nbconvert_exporter": "python",
   "pygments_lexer": "ipython3",
   "version": "3.12.7"
  }
 },
 "nbformat": 4,
 "nbformat_minor": 5
}
