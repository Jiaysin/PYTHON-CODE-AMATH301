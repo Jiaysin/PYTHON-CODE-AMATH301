{
  "cells": [
    {
      "cell_type": "markdown",
      "id": "26a887f2-8c33-4446-a891-cab8492810e2",
      "metadata": {
        "id": "26a887f2-8c33-4446-a891-cab8492810e2"
      },
      "source": [
        "In-class exercise 2.0\n",
        "UW AMATH 301 - Jakob Kotas"
      ]
    },
    {
      "cell_type": "code",
      "execution_count": 2,
      "id": "fGJvPU_GIKVy",
      "metadata": {
        "id": "fGJvPU_GIKVy"
      },
      "outputs": [],
      "source": [
        "import numpy as np"
      ]
    },
    {
      "cell_type": "code",
      "execution_count": 3,
      "id": "HPB7j6_Z3k69",
      "metadata": {
        "colab": {
          "base_uri": "https://localhost:8080/"
        },
        "id": "HPB7j6_Z3k69",
        "outputId": "1e13f5f5-2466-4a6b-ce27-423fe35194c4"
      },
      "outputs": [
        {
          "name": "stdout",
          "output_type": "stream",
          "text": [
            "A = [[ 1.+0.j  2.+0.j  3.-1.j]\n",
            " [ 4.+2.j -5.+0.j -6.+0.j]]\n",
            "A^T = [[ 1.+0.j  4.+2.j]\n",
            " [ 2.+0.j -5.+0.j]\n",
            " [ 3.-1.j -6.+0.j]]\n",
            "Ā =  [[ 1.-0.j  2.-0.j  3.+1.j]\n",
            " [ 4.-2.j -5.-0.j -6.-0.j]]\n",
            "A^* =  [[ 1.-0.j  4.-2.j]\n",
            " [ 2.-0.j -5.-0.j]\n",
            " [ 3.+1.j -6.-0.j]]\n"
          ]
        }
      ],
      "source": [
        "#1\n",
        "\n",
        "A = np.array([[1,2,3-1j],[4+2j,-5,-6]])\n",
        "print('A =',A) #(a)\n",
        "print('A^T =',A.T) #(b) transpose\n",
        "print('Ā = ', np.conjugate(A)) #(c) complex conjugate\n",
        "print('A^* = ', np.conjugate(A).T) #(d) adjoint"
      ]
    },
    {
      "cell_type": "code",
      "execution_count": 5,
      "id": "a931d995-16c3-4c1c-b3d1-207553fd9b30",
      "metadata": {
        "colab": {
          "base_uri": "https://localhost:8080/"
        },
        "id": "a931d995-16c3-4c1c-b3d1-207553fd9b30",
        "outputId": "62ea52e6-9925-4452-89e2-d9e3339914a5"
      },
      "outputs": [
        {
          "name": "stdout",
          "output_type": "stream",
          "text": [
            "Z = [[0. 0. 0.]\n",
            " [0. 0. 0.]]\n",
            "N = [[1. 1. 1.]\n",
            " [1. 1. 1.]]\n",
            "M = [[1. 2. 3.]\n",
            " [4. 5. 6.]]\n",
            "M+N = [[2. 3. 4.]\n",
            " [5. 6. 7.]]\n",
            "N+M = [[2. 3. 4.]\n",
            " [5. 6. 7.]]\n"
          ]
        }
      ],
      "source": [
        "#2\n",
        "\n",
        "#(a)\n",
        "numrows = 2\n",
        "numcols = 3\n",
        "Z = np.zeros([numrows,numcols])\n",
        "print('Z =',Z)\n",
        "\n",
        "#(b)\n",
        "N = np.ones([numrows,numcols])\n",
        "print('N =',N)\n",
        "\n",
        "#(c)\n",
        "M = Z\n",
        "i = 1\n",
        "for r in range(0,numrows):\n",
        "    for c in range(0,numcols):\n",
        "        M[r,c] = i\n",
        "        i = i+1\n",
        "print('M =',M)\n",
        "\n",
        "#(d)\n",
        "print('M+N =',M+N)\n",
        "print('N+M =',N+M)"
      ]
    },
    {
      "cell_type": "code",
      "execution_count": 12,
      "id": "5d443c11-3837-42f8-b73e-e2ee7dec5ca4",
      "metadata": {
        "colab": {
          "base_uri": "https://localhost:8080/"
        },
        "id": "5d443c11-3837-42f8-b73e-e2ee7dec5ca4",
        "outputId": "63f6027c-ff8c-4173-d244-e8ed80407b02"
      },
      "outputs": [
        {
          "name": "stdout",
          "output_type": "stream",
          "text": [
            "k = 2\n",
            "v = [[3]\n",
            " [0]\n",
            " [0]\n",
            " [3]]\n",
            "R1 = [[5 2 4 5]\n",
            " [5 5 4 3]\n",
            " [0 4 3 2]\n",
            " [4 3 2 5]]\n",
            "R2 = [[0 1 4 5]\n",
            " [4 4 4 3]\n",
            " [5 3 5 1]\n",
            " [2 0 3 0]]\n",
            "k*R1 = [[10  4  8 10]\n",
            " [10 10  8  6]\n",
            " [ 0  8  6  4]\n",
            " [ 8  6  4 10]]\n",
            "R1*v = [[30]\n",
            " [24]\n",
            " [ 6]\n",
            " [27]]\n",
            "R1*R2 = [[38 25 63 35]\n",
            " [46 37 69 44]\n",
            " [35 25 37 15]\n",
            " [32 22 53 31]]\n",
            "R2*R1 = [[25 36 26 36]\n",
            " [52 53 50 55]\n",
            " [44 48 49 49]\n",
            " [10 16 17 16]]\n",
            "R1⊙R2 = [[ 0  2 16 25]\n",
            " [20 20 16  9]\n",
            " [ 0 12 15  2]\n",
            " [ 8  0  6  0]]\n",
            "S1*v = [[30]\n",
            " [24]\n",
            " [ 6]\n",
            " [27]]\n",
            "S1*S2 = [[38 25 63 35]\n",
            " [46 37 69 44]\n",
            " [35 25 37 15]\n",
            " [32 22 53 31]]\n",
            "S2*S1 = [[25 36 26 36]\n",
            " [52 53 50 55]\n",
            " [44 48 49 49]\n",
            " [10 16 17 16]]\n",
            "S1⊙S2 = [[ 0  2 16 25]\n",
            " [20 20 16  9]\n",
            " [ 0 12 15  2]\n",
            " [ 8  0  6  0]]\n"
          ]
        }
      ],
      "source": [
        "#3\n",
        "\n",
        "k = np.random.randint(2,11)\n",
        "v = np.random.randint(0,6,[4,1])\n",
        "R1 = np.random.randint(0,6,[4,4])\n",
        "R2 = np.random.randint(0,6,[4,4])\n",
        "print('k =',k) #(a)\n",
        "print('v =',v)\n",
        "print('R1 =',R1)\n",
        "print('R2 =',R2)\n",
        "print('k*R1 =',k*R1) #(b)\n",
        "print('R1*v =',R1@v) #(c)\n",
        "print('R1*R2 =',R1@R2) #(d)\n",
        "print('R2*R1 =',R2@R1) #(e)\n",
        "print('R1⊙R2 =',R1*R2) #(f)\n",
        "\n",
        "#(g)\n",
        "S1 = np.matrix(R1)\n",
        "S2 = np.matrix(R2)\n",
        "w = np.matrix(v)\n",
        "print('S1*v =',S1*v)\n",
        "print('S1*S2 =',S1*S2)\n",
        "print('S2*S1 =',S2*S1)\n",
        "print('S1⊙S2 =',np.multiply(S1,S2))"
      ]
    },
    {
      "cell_type": "code",
      "execution_count": 15,
      "id": "775ed443-df54-4a00-9576-ddf892b2bbe0",
      "metadata": {
        "colab": {
          "base_uri": "https://localhost:8080/"
        },
        "id": "775ed443-df54-4a00-9576-ddf892b2bbe0",
        "outputId": "ac75f165-a258-4908-92cf-76d3d2c9c7e1"
      },
      "outputs": [
        {
          "name": "stdout",
          "output_type": "stream",
          "text": [
            "va·vb = 0\n",
            "va·vb = 0\n",
            "va·vc = -1\n",
            "va⊙vb = [-2  8 -6]\n",
            "|va| = 3.7416573867739413\n"
          ]
        }
      ],
      "source": [
        "#4\n",
        "\n",
        "va = np.array([1,2,3])\n",
        "vb = np.array([-2,4,-2])\n",
        "vc = np.array([-2,-1,1])\n",
        "\n",
        "print('va·vb =',(va.T)@vb) #(a) va and vb are orthogonal\n",
        "print('va·vb =',va@vb) #np.array doesn't preserve row/column orientation\n",
        "print('va·vc =',va@vc) #(b) va and vc are not orthogonal\n",
        "print('va⊙vb =',va*vb) #(c)\n",
        "print('|va| =',np.sqrt(va@va)) #(d)\n",
        "\n",
        "#(e)\n",
        "#ma = np.matrix(va).T #np.matrix defaults to row vector\n",
        "#print('ma =',ma)\n",
        "#mb = np.matrix(vb).T\n",
        "#mc = np.matrix(vc).T\n",
        "\n",
        "#print('ma·mb =', (ma.T)*mb)\n",
        "#print('ma⊙mb =', np.multiply(ma,mb))\n",
        "#print('ma·mb ≠', ma*mb) #dimension mismatch"
      ]
    },
    {
      "cell_type": "code",
      "execution_count": null,
      "id": "a6380483-68f7-4be7-9944-a8b869630f75",
      "metadata": {
        "id": "a6380483-68f7-4be7-9944-a8b869630f75",
        "outputId": "b07c5ab0-4387-4319-8895-4106357658d6"
      },
      "outputs": [
        {
          "name": "stdout",
          "output_type": "stream",
          "text": [
            "c1x1+c2x2+c3x3 = [0 0 0]\n"
          ]
        }
      ],
      "source": [
        "#5\n",
        "\n",
        "x1 = np.array([2,1,0])\n",
        "x2 = np.array([1,0,-2])\n",
        "x3 = np.array([0,1,4])\n",
        "\n",
        "c1 = 1\n",
        "c2 = -2\n",
        "c3 = -1\n",
        "\n",
        "print('c1x1+c2x2+c3x3 =',c1*x1+c2*x2+c3*x3) #x1,x2,x3 are linearly dependent"
      ]
    },
    {
      "cell_type": "code",
      "execution_count": 19,
      "id": "3854526f-5e57-4271-a3c9-b78815de5cb2",
      "metadata": {
        "colab": {
          "base_uri": "https://localhost:8080/"
        },
        "id": "3854526f-5e57-4271-a3c9-b78815de5cb2",
        "outputId": "61bd4e67-05e9-4022-d9b9-43bc55c22479"
      },
      "outputs": [
        {
          "name": "stdout",
          "output_type": "stream",
          "text": [
            "I = [[1. 0. 0.]\n",
            " [0. 1. 0.]\n",
            " [0. 0. 1.]]\n",
            "R = [[0 2 4]\n",
            " [0 4 1]\n",
            " [4 3 5]]\n",
            "IR = [[0. 2. 4.]\n",
            " [0. 4. 1.]\n",
            " [4. 3. 5.]]\n",
            "RI = [[0. 2. 4.]\n",
            " [0. 4. 1.]\n",
            " [4. 3. 5.]]\n",
            "det(R) = -56.00000000000002\n",
            "det(R) =  -56\n",
            "R^(-1) = [[-0.30357143 -0.03571429  0.25      ]\n",
            " [-0.07142857  0.28571429  0.        ]\n",
            " [ 0.28571429 -0.14285714  0.        ]]\n",
            "R^(-1)R = [[1. 0. 0.]\n",
            " [0. 1. 0.]\n",
            " [0. 0. 1.]]\n",
            "RR^(-1) = [[1. 0. 0.]\n",
            " [0. 1. 0.]\n",
            " [0. 0. 1.]]\n",
            "M = [[1. 2. 3.]\n",
            " [4. 5. 6.]]\n",
            "S = [[ 2  1  0]\n",
            " [ 1  0  1]\n",
            " [ 0 -2  4]]\n",
            "det(S) = 0.0\n"
          ]
        }
      ],
      "source": [
        "#6\n",
        "\n",
        "i3x3 = np.eye(3)\n",
        "R = np.random.randint(0,6,[3,3])\n",
        "detR = np.linalg.det(R)\n",
        "print('I =',i3x3)\n",
        "print('R =',R)\n",
        "print('IR =',i3x3@R) #(a)\n",
        "print('RI =',R@i3x3)\n",
        "print('det(R) =',detR) #(b)\n",
        "detRlong = (R[0,0]*R[1,1]*R[2,2]+R[0,1]*R[1,2]*R[2,0]+R[0,2]*R[1,0]*R[2,1]\n",
        "            -R[0,2]*R[1,1]*R[2,0]-R[0,1]*R[1,0]*R[2,2]-R[0,0]*R[1,2]*R[2,1])\n",
        "print('det(R) = ',detRlong) #(c)\n",
        "Rinv = np.linalg.inv(R) #(d)\n",
        "print('R^(-1) =',Rinv)\n",
        "print('R^(-1)R =',Rinv@R) #(e)\n",
        "print('RR^(-1) =',Rinv@R)\n",
        "\n",
        "print('M =',M)\n",
        "#detM = np.linalg.det(M) #(f) determinant not defined for non-square matrices\n",
        "#Minv = np.linalg.inv(M) #M is non-invertible because it is not square\n",
        "\n",
        "S = np.array([[2,1,0],[1,0,1],[0,-2,4]]) #(g) columns of S are linearly dependent\n",
        "detS = np.linalg.det(S)\n",
        "#Sinv = np.linalg.inv(S) #S is non-invertible (singular) despite being square because det(S)=0\n",
        "print('S =',S)\n",
        "print('det(S) =',detS)"
      ]
    },
    {
      "cell_type": "code",
      "execution_count": 18,
      "id": "tPUyztRdp1L5",
      "metadata": {
        "colab": {
          "base_uri": "https://localhost:8080/"
        },
        "id": "tPUyztRdp1L5",
        "outputId": "9b651d53-9cb5-4061-81ce-97cea1ef8b7b"
      },
      "outputs": [
        {
          "name": "stdout",
          "output_type": "stream",
          "text": [
            "x = [3.5]\n"
          ]
        }
      ],
      "source": [
        "#7\n",
        "\n",
        "A = np.array([[2]])\n",
        "b = np.array([7])\n",
        "x = np.linalg.inv(A)@b #don't use this in general; not computationally efficient. but ok for very small systems\n",
        "print('x =',x)"
      ]
    },
    {
      "cell_type": "code",
      "execution_count": null,
      "id": "1d845582-7126-4641-9382-be511df1e7a7",
      "metadata": {
        "id": "1d845582-7126-4641-9382-be511df1e7a7",
        "outputId": "f3c44d46-6589-4303-f5e9-4fc53d512fec"
      },
      "outputs": [
        {
          "name": "stdout",
          "output_type": "stream",
          "text": [
            "x = [-4. -1.  7.]\n"
          ]
        }
      ],
      "source": [
        "#8\n",
        "\n",
        "A = np.array([[5,1,1],[0,3,4],[4,0,3]])\n",
        "b = np.array([-14,25,5])\n",
        "x = np.linalg.inv(A)@b #don't use this in general; not computationally efficient. but ok for very small systems\n",
        "print('x =',x)"
      ]
    },
    {
      "cell_type": "code",
      "execution_count": null,
      "id": "b0f8ec9d-affc-46b3-abfe-7fa160482185",
      "metadata": {
        "id": "b0f8ec9d-affc-46b3-abfe-7fa160482185"
      },
      "outputs": [],
      "source": []
    }
  ],
  "metadata": {
    "colab": {
      "provenance": []
    },
    "kernelspec": {
      "display_name": "Python 3 (ipykernel)",
      "language": "python",
      "name": "python3"
    },
    "language_info": {
      "codemirror_mode": {
        "name": "ipython",
        "version": 3
      },
      "file_extension": ".py",
      "mimetype": "text/x-python",
      "name": "python",
      "nbconvert_exporter": "python",
      "pygments_lexer": "ipython3",
      "version": "3.12.7"
    }
  },
  "nbformat": 4,
  "nbformat_minor": 5
}
