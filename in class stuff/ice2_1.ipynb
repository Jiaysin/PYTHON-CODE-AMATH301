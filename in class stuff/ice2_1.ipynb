{
  "cells": [
    {
      "cell_type": "markdown",
      "metadata": {
        "id": "RqEfbwkl-mLc"
      },
      "source": [
        "In-class exercise 2.0\n",
        "UW AMATH 301 - Jakob Kotas"
      ]
    },
    {
      "cell_type": "code",
      "execution_count": 2,
      "metadata": {
        "id": "rRyM4lN2-opt"
      },
      "outputs": [],
      "source": [
        "import numpy as np\n",
        "from scipy.linalg import lu"
      ]
    },
    {
      "cell_type": "code",
      "execution_count": 3,
      "metadata": {
        "id": "He694qLN-p7u"
      },
      "outputs": [],
      "source": [
        "#1\n",
        "\n",
        "# implements Naive Gauss elimination without partial pivoting. may encounter a zero pivot, which breaks the algorithm.\n",
        "def naivegauss(A,b):\n",
        "    # combine A and b into an augmented matrix\n",
        "    augmat = np.hstack([A,b]) #horizontal concatenation. b must be column vector\n",
        "\n",
        "    print('forward elimination, [A|b] =\\n',augmat,'\\n')\n",
        "\n",
        "    n = len(b)\n",
        "\n",
        "    # forward elimination\n",
        "    for i in range(0,n-1): #iterate over columns\n",
        "        for j in range(i+1,n): #iterate over rows in this column, below the pivot\n",
        "            factor = augmat[j,i]/augmat[i,i]\n",
        "            augmat[j,:] = augmat[j,:] - factor*augmat[i,:]\n",
        "\n",
        "            print('i =',i,', j=',j,', [A|b] =\\n',augmat,'\\n')\n",
        "\n",
        "    # back substitution\n",
        "    print('back substitution\\n')\n",
        "    for i in range(n-1,-1,-1): #iterate over columns\n",
        "        for j in range(i-1,-1,-1): #iterate over rows in this column, above the pivot\n",
        "            factor = augmat[j,i]/augmat[i,i]\n",
        "            augmat[j,:] = augmat[j,:] - factor*augmat[i,:]\n",
        "\n",
        "            print('i =',i,', j=',j,', [A|b] =\\n',augmat,'\\n')\n",
        "\n",
        "    # scale diagonal elements to 1\n",
        "    for i in range(0,n):\n",
        "        augmat[i,:] = augmat[i,:]/augmat[i,i]\n",
        "\n",
        "    print('final augmented matrix [A|b]=\\n',augmat,'\\n')\n",
        "    return augmat[:,n]"
      ]
    },
    {
      "cell_type": "code",
      "execution_count": null,
      "metadata": {
        "colab": {
          "base_uri": "https://localhost:8080/"
        },
        "id": "CDDvonW8Gh-R",
        "outputId": "437a8e15-c1c6-4cdb-f6d5-4cbb470e8853"
      },
      "outputs": [
        {
          "name": "stdout",
          "output_type": "stream",
          "text": [
            "forward elimination, [A|b] =\n",
            " [[ 1  1  1  1]\n",
            " [ 1  2  4 -1]\n",
            " [ 1  3  9  1]] \n",
            "\n",
            "i = 0 , j= 1 , [A|b] =\n",
            " [[ 1  1  1  1]\n",
            " [ 0  1  3 -2]\n",
            " [ 1  3  9  1]] \n",
            "\n",
            "i = 0 , j= 2 , [A|b] =\n",
            " [[ 1  1  1  1]\n",
            " [ 0  1  3 -2]\n",
            " [ 0  2  8  0]] \n",
            "\n",
            "i = 1 , j= 2 , [A|b] =\n",
            " [[ 1  1  1  1]\n",
            " [ 0  1  3 -2]\n",
            " [ 0  0  2  4]] \n",
            "\n",
            "back substitution\n",
            "\n",
            "i = 2 , j= 1 , [A|b] =\n",
            " [[ 1  1  1  1]\n",
            " [ 0  1  0 -8]\n",
            " [ 0  0  2  4]] \n",
            "\n",
            "i = 2 , j= 0 , [A|b] =\n",
            " [[ 1  1  0 -1]\n",
            " [ 0  1  0 -8]\n",
            " [ 0  0  2  4]] \n",
            "\n",
            "i = 1 , j= 0 , [A|b] =\n",
            " [[ 1  0  0  7]\n",
            " [ 0  1  0 -8]\n",
            " [ 0  0  2  4]] \n",
            "\n",
            "final augmented matrix [A|b]=\n",
            " [[ 1  0  0  7]\n",
            " [ 0  1  0 -8]\n",
            " [ 0  0  1  2]] \n",
            "\n"
          ]
        },
        {
          "data": {
            "text/plain": [
              "array([ 7, -8,  2])"
            ]
          },
          "execution_count": 25,
          "metadata": {},
          "output_type": "execute_result"
        }
      ],
      "source": [
        "naivegauss([[1,1,1],[1,2,4],[1,3,9]],[[1],[-1],[1]]) #from Kutz video 2.1a"
      ]
    },
    {
      "cell_type": "code",
      "execution_count": null,
      "metadata": {
        "colab": {
          "base_uri": "https://localhost:8080/"
        },
        "id": "4fNHzgFX-_4K",
        "outputId": "a441fe0b-b336-4aa0-a1de-dcb2a44e83f2"
      },
      "outputs": [
        {
          "name": "stdout",
          "output_type": "stream",
          "text": [
            "forward elimination, [A|b] =\n",
            " [[  5   1   1 -14]\n",
            " [  0   3   4  25]\n",
            " [  4   0   3   5]] \n",
            "\n",
            "i = 0 , j= 1 , [A|b] =\n",
            " [[  5   1   1 -14]\n",
            " [  0   3   4  25]\n",
            " [  4   0   3   5]] \n",
            "\n",
            "i = 0 , j= 2 , [A|b] =\n",
            " [[  5   1   1 -14]\n",
            " [  0   3   4  25]\n",
            " [  0   0   2  16]] \n",
            "\n",
            "i = 1 , j= 2 , [A|b] =\n",
            " [[  5   1   1 -14]\n",
            " [  0   3   4  25]\n",
            " [  0   0   2  16]] \n",
            "\n",
            "back substitution\n",
            "\n",
            "i = 2 , j= 1 , [A|b] =\n",
            " [[  5   1   1 -14]\n",
            " [  0   3   0  -7]\n",
            " [  0   0   2  16]] \n",
            "\n",
            "i = 2 , j= 0 , [A|b] =\n",
            " [[  5   1   0 -22]\n",
            " [  0   3   0  -7]\n",
            " [  0   0   2  16]] \n",
            "\n",
            "i = 1 , j= 0 , [A|b] =\n",
            " [[  5   0   0 -19]\n",
            " [  0   3   0  -7]\n",
            " [  0   0   2  16]] \n",
            "\n",
            "final augmented matrix [A|b]=\n",
            " [[ 1  0  0 -3]\n",
            " [ 0  1  0 -2]\n",
            " [ 0  0  1  8]] \n",
            "\n"
          ]
        },
        {
          "data": {
            "text/plain": [
              "array([-3, -2,  8])"
            ]
          },
          "execution_count": 26,
          "metadata": {},
          "output_type": "execute_result"
        }
      ],
      "source": [
        "naivegauss([[5,1,1],[0,3,4],[4,0,3]],[[-14],[25],[5]]) #wrong answer (!)"
      ]
    },
    {
      "cell_type": "code",
      "execution_count": null,
      "metadata": {
        "colab": {
          "base_uri": "https://localhost:8080/"
        },
        "id": "OlzNhMR8EQks",
        "outputId": "ab3adfb6-9ab3-4ecd-e3d9-e3306079895c"
      },
      "outputs": [
        {
          "name": "stdout",
          "output_type": "stream",
          "text": [
            "forward elimination, [A|b] =\n",
            " [[  5.   1.   1. -14.]\n",
            " [  0.   3.   4.  25.]\n",
            " [  4.   0.   3.   5.]] \n",
            "\n",
            "i = 0 , j= 1 , [A|b] =\n",
            " [[  5.   1.   1. -14.]\n",
            " [  0.   3.   4.  25.]\n",
            " [  4.   0.   3.   5.]] \n",
            "\n",
            "i = 0 , j= 2 , [A|b] =\n",
            " [[  5.    1.    1.  -14. ]\n",
            " [  0.    3.    4.   25. ]\n",
            " [  0.   -0.8   2.2  16.2]] \n",
            "\n",
            "i = 1 , j= 2 , [A|b] =\n",
            " [[  5.           1.           1.         -14.        ]\n",
            " [  0.           3.           4.          25.        ]\n",
            " [  0.           0.           3.26666667  22.86666667]] \n",
            "\n",
            "i = 2 , j= 1 , [A|b] =\n",
            " [[  5.           1.           1.         -14.        ]\n",
            " [  0.           3.           0.          -3.        ]\n",
            " [  0.           0.           3.26666667  22.86666667]] \n",
            "\n",
            "i = 2 , j= 0 , [A|b] =\n",
            " [[  5.           1.           0.         -21.        ]\n",
            " [  0.           3.           0.          -3.        ]\n",
            " [  0.           0.           3.26666667  22.86666667]] \n",
            "\n",
            "i = 1 , j= 0 , [A|b] =\n",
            " [[  5.           0.           0.         -20.        ]\n",
            " [  0.           3.           0.          -3.        ]\n",
            " [  0.           0.           3.26666667  22.86666667]] \n",
            "\n",
            "final augmented matrix [A|b]=\n",
            " [[ 1.  0.  0. -4.]\n",
            " [ 0.  1.  0. -1.]\n",
            " [ 0.  0.  1.  7.]] \n",
            "\n"
          ]
        },
        {
          "data": {
            "text/plain": [
              "array([-4., -1.,  7.])"
            ]
          },
          "execution_count": 23,
          "metadata": {},
          "output_type": "execute_result"
        }
      ],
      "source": [
        "naivegauss([[5.,1,1],[0,3,4],[4,0,3]],[[-14],[25],[5]]) #force python to use floats, this gives the right answer"
      ]
    },
    {
      "cell_type": "code",
      "execution_count": 46,
      "metadata": {
        "colab": {
          "base_uri": "https://localhost:8080/"
        },
        "id": "G2Vi6Iu9e8p5",
        "outputId": "65711c02-4312-46e8-c204-bec29e3f1360"
      },
      "outputs": [
        {
          "name": "stdout",
          "output_type": "stream",
          "text": [
            "A = [[1 2 3]\n",
            " [4 5 6]\n",
            " [7 8 0]]\n",
            "L2^(-1) = [[ 1.  0.  0.]\n",
            " [-0.  1. -0.]\n",
            " [ 0.  2.  1.]]\n",
            "L1^(-1) = [[ 1. -0. -0.]\n",
            " [ 4.  1.  0.]\n",
            " [ 7.  0.  1.]]\n",
            "L = [[1. 0. 0.]\n",
            " [4. 1. 0.]\n",
            " [7. 2. 1.]]\n",
            "LU = [[1. 2. 3.]\n",
            " [4. 5. 6.]\n",
            " [7. 8. 0.]]\n"
          ]
        }
      ],
      "source": [
        "#2\n",
        "\n",
        "A=np.array([[1,2,3],[4,5,6],[7,8,0]])\n",
        "print('A =',A)\n",
        "\n",
        "#a\n",
        "L2=np.array([[1,0,0],[0,1,0],[0,-2,1]])\n",
        "L2inv = np.linalg.inv(L2)\n",
        "print('L2^(-1) =',L2inv)\n",
        "\n",
        "#b\n",
        "L1=np.array([[1,0,0],[-4,1,0],[-7,0,1]])\n",
        "L1inv = np.linalg.inv(L1)\n",
        "print('L1^(-1) =',L1inv)\n",
        "\n",
        "#c\n",
        "L=L1inv@L2inv\n",
        "print('L =',L)\n",
        "\n",
        "U=np.array([[1,2,3],[0,-3,-6],[0,0,-9]])\n",
        "print('LU =',L@U) #check that LU=A\n"
      ]
    },
    {
      "cell_type": "code",
      "execution_count": 45,
      "metadata": {
        "colab": {
          "base_uri": "https://localhost:8080/"
        },
        "id": "xA7ZzV2b6z5e",
        "outputId": "d03fa801-a190-4c38-9d6a-e2cd06a2c104"
      },
      "outputs": [
        {
          "name": "stdout",
          "output_type": "stream",
          "text": [
            "forward elimination, [A|b] =\n",
            " [[  1.   2.   3.  -8.]\n",
            " [  2.   4.   7. -19.]\n",
            " [  1.   1.   1.   0.]] \n",
            "\n",
            "i = 0 , j= 1 , [A|b] =\n",
            " [[ 1.  2.  3. -8.]\n",
            " [ 0.  0.  1. -3.]\n",
            " [ 1.  1.  1.  0.]] \n",
            "\n",
            "i = 0 , j= 2 , [A|b] =\n",
            " [[ 1.  2.  3. -8.]\n",
            " [ 0.  0.  1. -3.]\n",
            " [ 0. -1. -2.  8.]] \n",
            "\n",
            "i = 1 , j= 2 , [A|b] =\n",
            " [[  1.   2.   3.  -8.]\n",
            " [  0.   0.   1.  -3.]\n",
            " [ nan  nan  inf -inf]] \n",
            "\n",
            "back substitution\n",
            "\n",
            "i = 2 , j= 1 , [A|b] =\n",
            " [[  1.   2.   3.  -8.]\n",
            " [ nan  nan  nan  nan]\n",
            " [ nan  nan  inf -inf]] \n",
            "\n",
            "i = 2 , j= 0 , [A|b] =\n",
            " [[ nan  nan  nan  nan]\n",
            " [ nan  nan  nan  nan]\n",
            " [ nan  nan  inf -inf]] \n",
            "\n",
            "i = 1 , j= 0 , [A|b] =\n",
            " [[ nan  nan  nan  nan]\n",
            " [ nan  nan  nan  nan]\n",
            " [ nan  nan  inf -inf]] \n",
            "\n",
            "final augmented matrix [A|b]=\n",
            " [[nan nan nan nan]\n",
            " [nan nan nan nan]\n",
            " [nan nan nan nan]] \n",
            "\n"
          ]
        },
        {
          "name": "stderr",
          "output_type": "stream",
          "text": [
            "<ipython-input-3-9025ec952f6f>:15: RuntimeWarning: divide by zero encountered in scalar divide\n",
            "  factor = augmat[j,i]/augmat[i,i]\n",
            "<ipython-input-3-9025ec952f6f>:16: RuntimeWarning: invalid value encountered in multiply\n",
            "  augmat[j,:] = augmat[j,:] - factor*augmat[i,:]\n",
            "<ipython-input-3-9025ec952f6f>:25: RuntimeWarning: invalid value encountered in multiply\n",
            "  augmat[j,:] = augmat[j,:] - factor*augmat[i,:]\n",
            "<ipython-input-3-9025ec952f6f>:31: RuntimeWarning: invalid value encountered in divide\n",
            "  augmat[i,:] = augmat[i,:]/augmat[i,i]\n"
          ]
        },
        {
          "data": {
            "text/plain": [
              "array([nan, nan, nan])"
            ]
          },
          "execution_count": 45,
          "metadata": {},
          "output_type": "execute_result"
        }
      ],
      "source": [
        "#3a\n",
        "\n",
        "A = np.array([[1.,2,3],[2,4,7],[1,1,1]])\n",
        "b = np.array([[-8],[-19],[0]])\n",
        "\n",
        "naivegauss(A,b) #fails"
      ]
    },
    {
      "cell_type": "code",
      "execution_count": 15,
      "metadata": {
        "colab": {
          "base_uri": "https://localhost:8080/"
        },
        "id": "Qs9uVUyM7yXZ",
        "outputId": "ea63d6c4-2ca9-4d5b-dff6-3d70dd65db26"
      },
      "outputs": [
        {
          "name": "stdout",
          "output_type": "stream",
          "text": [
            "Ax = [ -8. -19.   0.]\n",
            "b = [[ -8]\n",
            " [-19]\n",
            " [  0]]\n"
          ]
        }
      ],
      "source": [
        "x = np.array([5,-2,-3]) #check that this x does solve Ax=b\n",
        "\n",
        "print('Ax =',A@x)\n",
        "print('b =',b)"
      ]
    },
    {
      "cell_type": "code",
      "execution_count": 29,
      "metadata": {
        "id": "E4uZFaFN6_Ar"
      },
      "outputs": [],
      "source": [
        "#3b\n",
        "\n",
        "# implements Gauss elimination with partial pivoting\n",
        "def gauss(A,b):\n",
        "    # combine A and b into an augmented matrix\n",
        "    augmat = np.hstack([A,b]) #horizontal concatenation. b must be column vector\n",
        "\n",
        "    print('forward elimination, [A|b] =\\n',augmat,'\\n')\n",
        "\n",
        "    n = len(b)\n",
        "\n",
        "    # forward elimination\n",
        "    for i in range(0,n-1): #iterate over columns\n",
        "        #partial pivoting steps below-------------------------------------------\n",
        "        rowtobepivot = i+np.argmax(np.abs(augmat[i:,i]))\n",
        "        print('rowtobepivot=',rowtobepivot)\n",
        "        if rowtobepivot!=i: #swap rows\n",
        "            augmat[[rowtobepivot,i]] = augmat[[i,rowtobepivot]]\n",
        "            print('rows swapped, [A|b] =\\n',augmat,'\\n')\n",
        "        #partial pivoting steps above-------------------------------------------\n",
        "\n",
        "        for j in range(i+1,n): #iterate over rows in this column, below the pivot\n",
        "            factor = augmat[j,i]/augmat[i,i]\n",
        "            augmat[j,:] = augmat[j,:] - factor*augmat[i,:]\n",
        "\n",
        "            print('i =',i,', j=',j,', [A|b] =\\n',augmat,'\\n')\n",
        "\n",
        "    # back substitution\n",
        "    print('back substitution\\n')\n",
        "    for i in range(n-1,-1,-1): #iterate over columns\n",
        "        for j in range(i-1,-1,-1): #iterate over rows in this column, above the pivot\n",
        "            factor = augmat[j,i]/augmat[i,i]\n",
        "            augmat[j,:] = augmat[j,:] - factor*augmat[i,:]\n",
        "\n",
        "            print('i =',i,', j=',j,', [A|b] =\\n',augmat,'\\n')\n",
        "\n",
        "    # scale diagonal elements to 1\n",
        "    for i in range(0,n):\n",
        "        augmat[i,:] = augmat[i,:]/augmat[i,i]\n",
        "\n",
        "    print('final augmented matrix [A|b]=\\n',augmat,'\\n')\n",
        "    return augmat[:,n]"
      ]
    },
    {
      "cell_type": "code",
      "execution_count": 52,
      "metadata": {
        "colab": {
          "base_uri": "https://localhost:8080/"
        },
        "id": "uqTfmdHs_Mrr",
        "outputId": "5be83bf8-d904-4728-d554-c19a7ba44754"
      },
      "outputs": [
        {
          "name": "stdout",
          "output_type": "stream",
          "text": [
            "forward elimination, [A|b] =\n",
            " [[  1.   2.   3.  -8.]\n",
            " [  2.   4.   7. -19.]\n",
            " [  1.   1.   1.   0.]] \n",
            "\n",
            "rowtobepivot= 1\n",
            "rows swapped, [A|b] =\n",
            " [[  2.   4.   7. -19.]\n",
            " [  1.   2.   3.  -8.]\n",
            " [  1.   1.   1.   0.]] \n",
            "\n",
            "i = 0 , j= 1 , [A|b] =\n",
            " [[  2.    4.    7.  -19. ]\n",
            " [  0.    0.   -0.5   1.5]\n",
            " [  1.    1.    1.    0. ]] \n",
            "\n",
            "i = 0 , j= 2 , [A|b] =\n",
            " [[  2.    4.    7.  -19. ]\n",
            " [  0.    0.   -0.5   1.5]\n",
            " [  0.   -1.   -2.5   9.5]] \n",
            "\n",
            "rowtobepivot= 2\n",
            "rows swapped, [A|b] =\n",
            " [[  2.    4.    7.  -19. ]\n",
            " [  0.   -1.   -2.5   9.5]\n",
            " [  0.    0.   -0.5   1.5]] \n",
            "\n",
            "i = 1 , j= 2 , [A|b] =\n",
            " [[  2.    4.    7.  -19. ]\n",
            " [  0.   -1.   -2.5   9.5]\n",
            " [  0.    0.   -0.5   1.5]] \n",
            "\n",
            "back substitution\n",
            "\n",
            "i = 2 , j= 1 , [A|b] =\n",
            " [[  2.    4.    7.  -19. ]\n",
            " [  0.   -1.    0.    2. ]\n",
            " [  0.    0.   -0.5   1.5]] \n",
            "\n",
            "i = 2 , j= 0 , [A|b] =\n",
            " [[ 2.   4.   0.   2. ]\n",
            " [ 0.  -1.   0.   2. ]\n",
            " [ 0.   0.  -0.5  1.5]] \n",
            "\n",
            "i = 1 , j= 0 , [A|b] =\n",
            " [[ 2.   0.   0.  10. ]\n",
            " [ 0.  -1.   0.   2. ]\n",
            " [ 0.   0.  -0.5  1.5]] \n",
            "\n",
            "final augmented matrix [A|b]=\n",
            " [[ 1.  0.  0.  5.]\n",
            " [-0.  1. -0. -2.]\n",
            " [-0. -0.  1. -3.]] \n",
            "\n"
          ]
        },
        {
          "data": {
            "text/plain": [
              "array([ 5., -2., -3.])"
            ]
          },
          "execution_count": 52,
          "metadata": {},
          "output_type": "execute_result"
        }
      ],
      "source": [
        "#3c\n",
        "\n",
        "A = np.array([[1.,2,3],[2,4,7],[1,1,1]])\n",
        "b = np.array([[-8],[-19],[0]])\n",
        "\n",
        "gauss(A,b)"
      ]
    },
    {
      "cell_type": "code",
      "execution_count": 53,
      "metadata": {
        "colab": {
          "base_uri": "https://localhost:8080/"
        },
        "id": "lNMfKYijWm0B",
        "outputId": "dc458069-20fc-4870-8b2c-f30567a10a66"
      },
      "outputs": [
        {
          "name": "stdout",
          "output_type": "stream",
          "text": [
            "[[ 5.]\n",
            " [-2.]\n",
            " [-3.]]\n"
          ]
        }
      ],
      "source": [
        "#3c\n",
        "\n",
        "print(np.linalg.solve(A,b))"
      ]
    },
    {
      "cell_type": "code",
      "execution_count": 62,
      "metadata": {
        "colab": {
          "base_uri": "https://localhost:8080/"
        },
        "id": "WVywUzCVAZPz",
        "outputId": "884a3b34-36f7-4054-c9ae-50c2a648c854"
      },
      "outputs": [
        {
          "name": "stdout",
          "output_type": "stream",
          "text": [
            "Ax = [[ 6]\n",
            " [13]\n",
            " [19]]\n"
          ]
        }
      ],
      "source": [
        "#4\n",
        "\n",
        "A = np.array([[1,2,3],[2,4,7],[3,6,10]])\n",
        "b = np.array([[6],[13],[19]])\n",
        "#pythonsx = np.linalg.solve(A,b) #unable to find x\n",
        "#print(pythonsx)\n",
        "\n",
        "myx = np.array([[1],[1],[1]]) #solves Ax=b\n",
        "print('Ax =',A@myx)"
      ]
    },
    {
      "cell_type": "code",
      "execution_count": null,
      "metadata": {
        "id": "wdi_8z7SXcV1"
      },
      "outputs": [],
      "source": []
    }
  ],
  "metadata": {
    "colab": {
      "provenance": []
    },
    "kernelspec": {
      "display_name": "Python 3",
      "name": "python3"
    },
    "language_info": {
      "name": "python"
    }
  },
  "nbformat": 4,
  "nbformat_minor": 0
}
