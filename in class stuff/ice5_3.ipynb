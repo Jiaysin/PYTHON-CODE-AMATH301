{
 "cells": [
  {
   "cell_type": "markdown",
   "id": "6072e192-85e8-4873-abfe-f3643709a14b",
   "metadata": {},
   "source": [
    "In-class exercise 5.3\n",
    "UW AMATH 301 - Jakob Kotas"
   ]
  },
  {
   "cell_type": "code",
   "execution_count": 1,
   "id": "0776a146-a0d3-417f-810c-3a976909f97d",
   "metadata": {},
   "outputs": [],
   "source": [
    "import numpy as np\n",
    "import matplotlib.pyplot as plt\n",
    "from scipy.optimize import linprog"
   ]
  },
  {
   "cell_type": "code",
   "execution_count": 19,
   "id": "ebaac116-9f94-4351-b2f0-f62cafc13a9f",
   "metadata": {},
   "outputs": [
    {
     "name": "stdout",
     "output_type": "stream",
     "text": [
      "        message: Optimization terminated successfully. (HiGHS Status 7: Optimal)\n",
      "        success: True\n",
      "         status: 0\n",
      "            fun: 0.9555555555555556\n",
      "              x: [ 1.222e+00  5.556e-01]\n",
      "            nit: 3\n",
      "          lower:  residual: [ 1.222e+00  5.556e-01]\n",
      "                 marginals: [ 0.000e+00  0.000e+00]\n",
      "          upper:  residual: [       inf        inf]\n",
      "                 marginals: [ 0.000e+00  0.000e+00]\n",
      "          eqlin:  residual: []\n",
      "                 marginals: []\n",
      "        ineqlin:  residual: [ 0.000e+00  1.444e+00  0.000e+00]\n",
      "                 marginals: [-2.222e-02 -0.000e+00 -2.444e-01]\n",
      " mip_node_count: 0\n",
      " mip_dual_bound: 0.0\n",
      "        mip_gap: 0.0\n",
      "optimum is at ( 1.222222222222222 , 0.5555555555555557 )\n"
     ]
    }
   ],
   "source": [
    "#1\n",
    "\n",
    "c = np.array([0.6,0.4])\n",
    "Aub = np.array([[-5,-7],[-4,-1],[-2,-1]])\n",
    "bub = np.array([-10,-4,-3])\n",
    "\n",
    "lpsol = linprog(c,A_ub=Aub,b_ub=bub,bounds=(0,None))\n",
    "print(lpsol)\n",
    "xy = lpsol.x\n",
    "print('optimum is at (',xy[0],',',xy[1],')')"
   ]
  },
  {
   "cell_type": "code",
   "execution_count": 39,
   "id": "7c5ac761-db2d-4457-b708-b06853cd7ecc",
   "metadata": {},
   "outputs": [
    {
     "name": "stdout",
     "output_type": "stream",
     "text": [
      "        message: Optimization terminated successfully. (HiGHS Status 7: Optimal)\n",
      "        success: True\n",
      "         status: 0\n",
      "            fun: 1.8448275862068952\n",
      "              x: [ 0.000e+00  2.845e-01  5.948e-01  1.207e-01]\n",
      "            nit: 4\n",
      "          lower:  residual: [ 0.000e+00  2.845e-01  5.948e-01  1.207e-01]\n",
      "                 marginals: [ 1.069e+00  0.000e+00  0.000e+00  0.000e+00]\n",
      "          upper:  residual: [       inf        inf        inf        inf]\n",
      "                 marginals: [ 0.000e+00  0.000e+00  0.000e+00  0.000e+00]\n",
      "          eqlin:  residual: [ 0.000e+00]\n",
      "                 marginals: [ 1.455e+01]\n",
      "        ineqlin:  residual: [ 1.000e+02  0.000e+00  1.021e-01  9.793e-02\n",
      "                              1.000e-02  0.000e+00]\n",
      "                 marginals: [-0.000e+00 -2.069e-03 -0.000e+00 -0.000e+00\n",
      "                             -0.000e+00 -3.448e+00]\n",
      " mip_node_count: 0\n",
      " mip_dual_bound: 0.0\n",
      "        mip_gap: 0.0\n",
      "the optimal alloy is:\n",
      " 0.0 % A,\n",
      " 28.44827586206889 % B,\n",
      " 59.4827586206898 % C,\n",
      " 12.068965517241303 % D\n"
     ]
    }
   ],
   "source": [
    "#2(a)\n",
    "\n",
    "c = np.array([2,2.5,1.5,2])\n",
    "Aub = np.array([[-6500,-5800,-6200,-5900],[6500,5800,6200,5900],[-0.2,-0.35,-0.15,-0.11],\n",
    "                [0.2,0.35,0.15,0.11],[-0.05,-0.015,-0.065,-0.1],[0.05,0.015,0.065,0.1]])\n",
    "bub = np.array([-5950,6050,-0.1,0.3,-0.045,0.055])\n",
    "Aeq = np.array([[1,1,1,1]])\n",
    "beq = np.array([[1]])\n",
    "\n",
    "lpsol = linprog(c,A_ub=Aub,b_ub=bub,A_eq=Aeq,b_eq=beq,bounds=(0,None))\n",
    "print(lpsol)\n",
    "xvec = lpsol.x\n",
    "print('the optimal alloy is:\\n',100*xvec[0],'% A,\\n',100*xvec[1],'% B,\\n',\n",
    "      100*xvec[2],'% C,\\n',100*xvec[3],'% D')"
   ]
  },
  {
   "cell_type": "code",
   "execution_count": 41,
   "id": "db866302-16d8-4f69-80ad-a8c7298192a1",
   "metadata": {},
   "outputs": [
    {
     "name": "stdout",
     "output_type": "stream",
     "text": [
      "        message: Optimization terminated successfully. (HiGHS Status 7: Optimal)\n",
      "        success: True\n",
      "         status: 0\n",
      "            fun: 1.8448275862068961\n",
      "              x: [ 0.000e+00  2.845e-01  5.948e-01  1.207e-01  1.000e+02\n",
      "                   0.000e+00  1.021e-01  9.793e-02  1.000e-02  0.000e+00]\n",
      "            nit: 7\n",
      "          lower:  residual: [ 0.000e+00  2.845e-01  5.948e-01  1.207e-01\n",
      "                              1.000e+02  0.000e+00  1.021e-01  9.793e-02\n",
      "                              1.000e-02  0.000e+00]\n",
      "                 marginals: [ 1.069e+00  0.000e+00  0.000e+00  0.000e+00\n",
      "                              0.000e+00  2.069e-03  0.000e+00  0.000e+00\n",
      "                              0.000e+00  3.448e+00]\n",
      "          upper:  residual: [       inf        inf        inf        inf\n",
      "                                    inf        inf        inf        inf\n",
      "                                    inf        inf]\n",
      "                 marginals: [ 0.000e+00  0.000e+00  0.000e+00  0.000e+00\n",
      "                              0.000e+00  0.000e+00  0.000e+00  0.000e+00\n",
      "                              0.000e+00  0.000e+00]\n",
      "          eqlin:  residual: [ 0.000e+00  0.000e+00  0.000e+00  0.000e+00\n",
      "                              0.000e+00  0.000e+00  0.000e+00]\n",
      "                 marginals: [-0.000e+00 -2.069e-03 -0.000e+00 -0.000e+00\n",
      "                             -0.000e+00 -3.448e+00  1.455e+01]\n",
      "        ineqlin:  residual: []\n",
      "                 marginals: []\n",
      " mip_node_count: 0\n",
      " mip_dual_bound: 0.0\n",
      "        mip_gap: 0.0\n",
      "the optimal alloy is:\n",
      " 0.0 % A,\n",
      " 28.44827586206894 % B,\n",
      " 59.48275862068972 % C,\n",
      " 12.06896551724134 % D\n"
     ]
    }
   ],
   "source": [
    "#2(b)\n",
    "\n",
    "c = np.array([2,2.5,1.5,2,0,0,0,0,0,0])\n",
    "Aeq = np.array([[-6500,-5800,-6200,-5900,1,0,0,0,0,0],[6500,5800,6200,5900,0,1,0,0,0,0],\n",
    "                [-0.2,-0.35,-0.15,-0.11,0,0,1,0,0,0],[0.2,0.35,0.15,0.11,0,0,0,1,0,0],\n",
    "                [-0.05,-0.015,-0.065,-0.1,0,0,0,0,1,0],[0.05,0.015,0.065,0.1,0,0,0,0,0,1],\n",
    "                [1,1,1,1,0,0,0,0,0,0]])\n",
    "beq = np.array([-5950,6050,-0.1,0.3,-0.045,0.055,1])\n",
    "\n",
    "lpsol = linprog(c,A_eq=Aeq,b_eq=beq,bounds=(0,None))\n",
    "print(lpsol)\n",
    "xvec = lpsol.x\n",
    "print('the optimal alloy is:\\n',100*xvec[0],'% A,\\n',100*xvec[1],'% B,\\n',\n",
    "      100*xvec[2],'% C,\\n',100*xvec[3],'% D')"
   ]
  },
  {
   "cell_type": "code",
   "execution_count": 45,
   "id": "0a78d63b-fc7b-43cd-ae84-c09df55ebcb4",
   "metadata": {},
   "outputs": [
    {
     "name": "stdout",
     "output_type": "stream",
     "text": [
      "[ 0.          7.05882353 32.94117647 30.29411765  9.70588235 15.\n",
      "  0.          3.52941176  0.          8.11764706  0.         12.35294118]\n"
     ]
    }
   ],
   "source": [
    "#3\n",
    "\n",
    "c = np.array([121.6,121.6,121.6,121.6,121.6,121.6,51.8,51.8,51.8,51.8,51.8,51.8])\n",
    "Aub = np.array([[-1,0,0,0,0,-1,-5/6,0,0,0,0,0],\n",
    "                [-1,-1,0,0,0,0,0,-5/6,0,0,0,0],\n",
    "                [0,-1,-1,0,0,0,0,0,-5/6,0,0,0],\n",
    "                [0,0,-1,-1,0,0,0,0,0,-5/6,0,0],\n",
    "                [0,0,0,-1,-1,0,0,0,0,0,-5/6,0],\n",
    "                [0,0,0,0,-1,-1,0,0,0,0,0,-5/6],\n",
    "                [-1/2,0,0,0,0,-1/2,1,0,0,0,0,0],\n",
    "                [-1/2,-1/2,0,0,0,0,0,1,0,0,0,0],\n",
    "                [0,-1/2,-1/2,0,0,0,0,0,1,0,0,0],\n",
    "                [0,0,-1/2,-1/2,0,0,0,0,0,1,0,0],\n",
    "                [0,0,0,-1/2,-1/2,0,0,0,0,0,1,0],\n",
    "                [0,0,0,0,-1/2,-1/2,0,0,0,0,0,1]])\n",
    "bub = np.array([-15,-10,-40,-70,-40,-35,0,0,0,0,0,0])\n",
    "\n",
    "lpsol = linprog(c,A_ub=Aub,b_ub=bub,bounds=(0,None))\n",
    "print(lpsol.x)\n"
   ]
  },
  {
   "cell_type": "code",
   "execution_count": null,
   "id": "c6bd4b17-cfe8-492e-aa94-57d39b62b971",
   "metadata": {},
   "outputs": [],
   "source": []
  }
 ],
 "metadata": {
  "kernelspec": {
   "display_name": "Python 3 (ipykernel)",
   "language": "python",
   "name": "python3"
  },
  "language_info": {
   "codemirror_mode": {
    "name": "ipython",
    "version": 3
   },
   "file_extension": ".py",
   "mimetype": "text/x-python",
   "name": "python",
   "nbconvert_exporter": "python",
   "pygments_lexer": "ipython3",
   "version": "3.12.7"
  }
 },
 "nbformat": 4,
 "nbformat_minor": 5
}
