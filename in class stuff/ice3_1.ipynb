{
 "cells": [
  {
   "cell_type": "code",
   "execution_count": 111,
   "id": "3e975ff7-52ba-4e91-aa67-24b1e7f750c5",
   "metadata": {},
   "outputs": [],
   "source": [
    "import numpy as np"
   ]
  },
  {
   "cell_type": "code",
   "execution_count": 127,
   "id": "ae525348-2c8b-4aa0-b203-c81848e10d91",
   "metadata": {},
   "outputs": [],
   "source": [
    "#1\n",
    "\n",
    "def f(t):\n",
    "    return t**0.5\n",
    "\n",
    "def fp(t):\n",
    "    return 0.5*t**-0.5"
   ]
  },
  {
   "cell_type": "code",
   "execution_count": 129,
   "id": "7533f81c-6a9a-42b6-b283-0a054e164a4e",
   "metadata": {},
   "outputs": [
    {
     "name": "stdout",
     "output_type": "stream",
     "text": [
      "lower-order fp(a) = 0.2500001953130382\n",
      "higher-order fp(a) = 0.2499999999978649\n",
      "true fp(a) = 0.25\n",
      "low-order centered diff. rel. error = 7.812521527483796e-07\n",
      "high-order centered diff. rel. error = 8.540390616929017e-12\n"
     ]
    }
   ],
   "source": [
    "#1\n",
    "\n",
    "t = 4 #(a)\n",
    "dt = 0.01 #(a)\n",
    "#dt = 1e-4 #(b)\n",
    "#dt = 1e-20 #(c)\n",
    "\n",
    "#t = 0.03 #(d)\n",
    "#dt = 0.01 #(d)\n",
    "\n",
    "fpapprox_loword = (f(t+dt)-f(t-dt))/(2*dt)\n",
    "fpapprox_highord = (-f(t+2*dt)+8*(f(t+dt))-8*f(t-dt)+f(t-2*dt))/(12*dt)\n",
    "fptrue = fp(t)\n",
    "\n",
    "error_loword = np.abs((fpapprox_loword-fptrue)/fptrue)\n",
    "error_highord = np.abs((fpapprox_highord-fptrue)/fptrue)\n",
    "\n",
    "print('lower-order fp(a) =', fpapprox_loword)\n",
    "print('higher-order fp(a) =', fpapprox_highord)\n",
    "print('true fp(a) =', fptrue)\n",
    "print('low-order centered diff. rel. error =',error_loword)\n",
    "print('high-order centered diff. rel. error =',error_highord)"
   ]
  },
  {
   "cell_type": "code",
   "execution_count": 143,
   "id": "c5e4881c-25c5-4635-a16a-1080068579f4",
   "metadata": {},
   "outputs": [
    {
     "name": "stdout",
     "output_type": "stream",
     "text": [
      "delta t = 0.002, fp(a) = -0.8651840941541811\n",
      "delta t = 0.001, fp(a) = -0.8652027633814591\n",
      "rel. error approx = 2.1577863673292315e-05\n"
     ]
    }
   ],
   "source": [
    "#2\n",
    "\n",
    "def f(t):\n",
    "    return np.sin(t**2)/(np.log(t)+np.exp(np.sqrt(t)))\n",
    "\n",
    "#(a)\n",
    "dt = 0.02\n",
    "fpapprox_dt002 = (-f(t+2*dt)+8*(f(t+dt))-8*f(t-dt)+f(t-2*dt))/(12*dt)\n",
    "\n",
    "dt = 0.01\n",
    "fpapprox_dt001 = (-f(t+2*dt)+8*(f(t+dt))-8*f(t-dt)+f(t-2*dt))/(12*dt)\n",
    "\n",
    "error = np.abs((fpapprox_dt002-fpapprox_dt001)/fpapprox_dt001)\n",
    "\n",
    "print('delta t = 0.002, fp(a) =', fpapprox_dt002)\n",
    "print('delta t = 0.001, fp(a) =', fpapprox_dt001)\n",
    "print('rel. error approx =',error)"
   ]
  },
  {
   "cell_type": "code",
   "execution_count": 149,
   "id": "c2535acd-6465-434f-8399-748cc73bd65b",
   "metadata": {},
   "outputs": [
    {
     "name": "stdout",
     "output_type": "stream",
     "text": [
      "dt = 0.00125\n",
      "fp(a) = -0.8652040108795905\n"
     ]
    }
   ],
   "source": [
    "#2(b)\n",
    "\n",
    "dt = 0.02\n",
    "fpapprox_old = (-f(t+2*dt)+8*(f(t+dt))-8*f(t-dt)+f(t-2*dt))/(12*dt)\n",
    "for i in range(1,101):\n",
    "    dt = dt/2\n",
    "    fpapprox_new = (-f(t+2*dt)+8*(f(t+dt))-8*f(t-dt)+f(t-2*dt))/(12*dt)\n",
    "    error = np.abs((fpapprox_old-fpapprox_new)/fpapprox_new)\n",
    "    if error<1e-8:\n",
    "        break\n",
    "    fpapprox_old = fpapprox_new\n",
    "\n",
    "print('dt =',dt)\n",
    "print('fp(a) =',fpapprox_new)"
   ]
  },
  {
   "cell_type": "code",
   "execution_count": 161,
   "id": "731732cc-c2bd-4b8d-85ee-1a1a91fc7b3f",
   "metadata": {},
   "outputs": [
    {
     "name": "stdout",
     "output_type": "stream",
     "text": [
      "[-18.75 -26.25 -22.5  -15.     0.    30.    70.  ]\n"
     ]
    }
   ],
   "source": [
    "#3\n",
    "\n",
    "dt = 0.1\n",
    "t = np.arange(-0.1,0.55,dt)\n",
    "f = np.array([3.25,0.5,-2,-4,-5,-4,1])\n",
    "\n",
    "n = len(t)\n",
    "fp = np.zeros(n)\n",
    "\n",
    "#forward FD at left endpoint\n",
    "fp[0] = (-3*f[0]+4*f[1]-2*f[2])/(2*dt)\n",
    "\n",
    "#centered FD at interior points\n",
    "for i in range(1,n-1):\n",
    "    fp[i] = (f[i+1]-f[i-1])/(2*dt)\n",
    "\n",
    "#backward FD at right endpoint\n",
    "fp[n-1] = (3*f[n-1]-4*f[n-2]+f[n-3])/(2*dt)\n",
    "\n",
    "print(fp)"
   ]
  }
 ],
 "metadata": {
  "kernelspec": {
   "display_name": "Python 3 (ipykernel)",
   "language": "python",
   "name": "python3"
  },
  "language_info": {
   "codemirror_mode": {
    "name": "ipython",
    "version": 3
   },
   "file_extension": ".py",
   "mimetype": "text/x-python",
   "name": "python",
   "nbconvert_exporter": "python",
   "pygments_lexer": "ipython3",
   "version": "3.12.7"
  }
 },
 "nbformat": 4,
 "nbformat_minor": 5
}
