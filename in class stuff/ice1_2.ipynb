{
  "cells": [
    {
      "cell_type": "markdown",
      "id": "26a887f2-8c33-4446-a891-cab8492810e2",
      "metadata": {
        "id": "26a887f2-8c33-4446-a891-cab8492810e2"
      },
      "source": [
        "In-class exercise 1.2\n",
        "UW AMATH 301 - Jakob Kotas"
      ]
    },
    {
      "cell_type": "code",
      "execution_count": 63,
      "id": "1yDiRfwok6j7",
      "metadata": {
        "id": "1yDiRfwok6j7"
      },
      "outputs": [],
      "source": [
        "#1a\n",
        "\n",
        "import numpy as np\n",
        "\n",
        "#using if statements:\n",
        "v = np.array([10, 56, 24, 19, 88, 37, 60, 70, 22, 56])\n",
        "a = np.array([]) #initialize a vector as empty\n",
        "for vn in v:\n",
        "  if (vn>=20) & (vn<=50):\n",
        "    a = np.append(a,vn)\n",
        "#display(a)\n",
        "\n",
        "#using logicals directly on vectors without if statements is usually MORE computationally efficient:\n",
        "vbool = (v>=20) & (v<=50)\n",
        "#display(vbool)\n",
        "\n",
        "a = v[vbool]\n",
        "#display(a)\n",
        "\n",
        "#or, even shorter:\n",
        "a = v[(v>=20) & (v<=50)]\n",
        "#display(a)"
      ]
    },
    {
      "cell_type": "code",
      "execution_count": 81,
      "id": "bgHNBQHslwL4",
      "metadata": {
        "id": "bgHNBQHslwL4"
      },
      "outputs": [],
      "source": [
        "#1b\n",
        "\n",
        "#using if statements:\n",
        "a = v\n",
        "for n in range(0,len(a)):\n",
        "  if (a[n]<20) | (a[n]>50):\n",
        "    a[n] = 99\n",
        "#display(a)\n",
        "\n",
        "#logicals directly on vectors:\n",
        "vbool = (v<20) | (v>50)\n",
        "a = v\n",
        "a[vbool] = 99\n",
        "#display(a)"
      ]
    },
    {
      "cell_type": "code",
      "execution_count": 82,
      "id": "325e228a-7f13-4feb-8f7e-66b358521edb",
      "metadata": {
        "id": "325e228a-7f13-4feb-8f7e-66b358521edb"
      },
      "outputs": [],
      "source": [
        "#2a\n",
        "\n",
        "s = 0 #initialize the total sum at zero\n",
        "for n in range(1,11):\n",
        "  s = s + 1/n #replace value of s at each step\n",
        "\n",
        "#display(s)"
      ]
    },
    {
      "cell_type": "code",
      "execution_count": 83,
      "id": "JXKVqNLQ8OzP",
      "metadata": {
        "id": "JXKVqNLQ8OzP"
      },
      "outputs": [],
      "source": [
        "#2b\n",
        "\n",
        "s = 0\n",
        "for n in range(0,1001):\n",
        "  s = s + np.e**(-n)\n",
        "\n",
        "#display(s)"
      ]
    },
    {
      "cell_type": "code",
      "execution_count": 85,
      "id": "JagCdr-ChMxw",
      "metadata": {
        "id": "JagCdr-ChMxw"
      },
      "outputs": [],
      "source": [
        "#2c\n",
        "\n",
        "s = 0i\n",
        "a = 1\n",
        "for n in range(0,11):\n",
        "  s = s+a #replace s\n",
        "  a = a/2 #replace a\n",
        "\n",
        "#display(s)\n",
        "\n",
        "#or, you can keep all values of a and s\n",
        "a = 1\n",
        "avec = np.array([a]) #vector will contain all a's\n",
        "for n in range(0,11):\n",
        "  a = a/2 #new a\n",
        "  avec = np.append(avec,a)\n",
        "\n",
        "#display(avec)\n",
        "\n",
        "s = 0\n",
        "for n in range(0,11):\n",
        "  s = s+avec[n]\n",
        "\n",
        "#display(s)"
      ]
    },
    {
      "cell_type": "code",
      "execution_count": 86,
      "id": "vQyXfGPz9CUJ",
      "metadata": {
        "id": "vQyXfGPz9CUJ"
      },
      "outputs": [],
      "source": [
        "#2d\n",
        "\n",
        "s = np.array([0,0,0])\n",
        "for n in range(1,6):\n",
        "  s = s + [n,n**2,n**3]\n",
        "\n",
        "#display(s)"
      ]
    },
    {
      "cell_type": "code",
      "execution_count": 87,
      "id": "_A5FdpZlhwl1",
      "metadata": {
        "id": "_A5FdpZlhwl1"
      },
      "outputs": [],
      "source": [
        "#3\n",
        "\n",
        "v = np.arange(-2,6.5,0.5)\n",
        "a = np.array([])\n",
        "\n",
        "#using if statements:\n",
        "for vn in v:\n",
        "  if vn<=2:\n",
        "    a = np.append(a,vn+1)\n",
        "  else:\n",
        "    a = np.append(a,2**vn)\n",
        "\n",
        "#display(a)\n",
        "\n",
        "#vectorized:\n",
        "a = (v<=2)*(v+1)+(v>2)*(2**v)\n",
        "\n",
        "#display(a)"
      ]
    },
    {
      "cell_type": "code",
      "execution_count": 88,
      "id": "Ke79a08_4p56",
      "metadata": {
        "id": "Ke79a08_4p56"
      },
      "outputs": [],
      "source": [
        "#4\n",
        "\n",
        "v1 = np.array([5]) #length 1\n",
        "v2 = np.array([1,8]) #length 2\n",
        "v3 = np.array([4,-1,2]) #length 3\n",
        "v4 = np.array([8,0,6,-3]) #length 4\n",
        "\n",
        "v=v1\n",
        "\n",
        "if len(v)==3:\n",
        "  a=3*v\n",
        "elif len(v)==2: #different than Matlab\n",
        "  a=2*v\n",
        "else:\n",
        "  a=0*v+99\n",
        "\n",
        "#display(a)"
      ]
    },
    {
      "cell_type": "code",
      "execution_count": 90,
      "id": "OwBPwfYN6bWJ",
      "metadata": {
        "colab": {
          "base_uri": "https://localhost:8080/",
          "height": 52
        },
        "id": "OwBPwfYN6bWJ",
        "outputId": "01919db9-6815-4aa1-b31a-502c1c3e1c73"
      },
      "outputs": [
        {
          "data": {
            "text/plain": [
              "1.414215087890625"
            ]
          },
          "metadata": {},
          "output_type": "display_data"
        },
        {
          "data": {
            "text/plain": [
              "16"
            ]
          },
          "metadata": {},
          "output_type": "display_data"
        }
      ],
      "source": [
        "#5\n",
        "\n",
        "#xr = -2.8; xl = -4 #old code\n",
        "xr = 4; xl = 0\n",
        "for j in range(0, 100):\n",
        "    xc = (xr + xl)/2\n",
        "#    fc = np.exp(xc) - np.tan(xc) #old code\n",
        "    fc = xc**2-2\n",
        "#    display(fc)\n",
        "    if ( fc > 0 ):\n",
        "        xr = xc #xl and xr have to change in the if statement\n",
        "    else:\n",
        "        xl = xc\n",
        "\n",
        "    if ( abs(fc) < 1e-5 ):\n",
        "        display(xc); display(j)\n",
        "        break"
      ]
    },
    {
      "cell_type": "markdown",
      "id": "preydKYV5f5p",
      "metadata": {
        "id": "preydKYV5f5p"
      },
      "source": [
        "#6\n",
        "\n",
        "The algorithm can perform poorly or fail if the starting interval is chosen badly. Examples: f(x)=x with interval [-1, 10^100] or [1, 2]\n",
        "\n",
        "The algorithm may fail if the function is discontinuous. Example: f(x)=|x|/x with interval [-1, 1]\n",
        "\n",
        "The algorithm may converge to a different zero if there are more than one in the starting interval. Example: f(x)=(1-x)x(1+x) on [-2,2]\n",
        "\n",
        "The algorithm may not be initializable if the function doesn't switch signs on either side of the zero. Example: f(x)=x^2 on [-1,1]\n",
        "\n",
        "Other situations are also possible..."
      ]
    },
    {
      "cell_type": "code",
      "execution_count": null,
      "id": "qsb03gI_63O9",
      "metadata": {
        "id": "qsb03gI_63O9"
      },
      "outputs": [],
      "source": []
    }
  ],
  "metadata": {
    "colab": {
      "provenance": []
    },
    "kernelspec": {
      "display_name": "base",
      "language": "python",
      "name": "python3"
    },
    "language_info": {
      "codemirror_mode": {
        "name": "ipython",
        "version": 3
      },
      "file_extension": ".py",
      "mimetype": "text/x-python",
      "name": "python",
      "nbconvert_exporter": "python",
      "pygments_lexer": "ipython3",
      "version": "3.12.7"
    }
  },
  "nbformat": 4,
  "nbformat_minor": 5
}
