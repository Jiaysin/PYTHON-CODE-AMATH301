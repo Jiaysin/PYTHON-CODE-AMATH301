{
  "cells": [
    {
      "cell_type": "markdown",
      "id": "26a887f2-8c33-4446-a891-cab8492810e2",
      "metadata": {
        "id": "26a887f2-8c33-4446-a891-cab8492810e2"
      },
      "source": [
        "In-class exercise 1.4\n",
        "UW AMATH 301 - Jakob Kotas"
      ]
    },
    {
      "cell_type": "code",
      "execution_count": null,
      "id": "fGJvPU_GIKVy",
      "metadata": {
        "id": "fGJvPU_GIKVy"
      },
      "outputs": [],
      "source": [
        "import numpy as np"
      ]
    },
    {
      "cell_type": "code",
      "execution_count": null,
      "id": "BKXWlGx90sWD",
      "metadata": {
        "colab": {
          "base_uri": "https://localhost:8080/"
        },
        "id": "BKXWlGx90sWD",
        "outputId": "c04fb7e4-2031-4733-bd6d-085b85af524b"
      },
      "outputs": [
        {
          "name": "stdout",
          "output_type": "stream",
          "text": [
            "f(f(1.5)) = 6.5625\n",
            "f(f(f(1.5))) = 19.81640625\n",
            "f(f(f(f(1.5)))) = 316.42433166503906\n"
          ]
        }
      ],
      "source": [
        "#1\n",
        "\n",
        "def f(x):\n",
        "  y = (x-1)*(x-3)\n",
        "  return y\n",
        "\n",
        "print('f(f(1.5)) =',f(f(1.5)))\n",
        "print('f(f(f(1.5))) =',f(f(f(1.5))))\n",
        "print('f(f(f(f(1.5)))) =',f(f(f(f(1.5)))))\n",
        "\n",
        "#x = 1.5\n",
        "#for j in range(1,5):\n",
        "#  x = f(x)\n",
        "#print(x)"
      ]
    },
    {
      "cell_type": "code",
      "execution_count": null,
      "id": "Z8YTGUeNvAxl",
      "metadata": {
        "colab": {
          "base_uri": "https://localhost:8080/",
          "height": 86
        },
        "id": "Z8YTGUeNvAxl",
        "outputId": "2b1d1307-9f95-47c6-c33e-890c0e663cbd"
      },
      "outputs": [
        {
          "data": {
            "text/plain": [
              "-0.5"
            ]
          },
          "metadata": {},
          "output_type": "display_data"
        },
        {
          "data": {
            "text/plain": [
              "-0.5663110031972182"
            ]
          },
          "metadata": {},
          "output_type": "display_data"
        },
        {
          "data": {
            "text/plain": [
              "-0.5671431650348622"
            ]
          },
          "metadata": {},
          "output_type": "display_data"
        },
        {
          "data": {
            "text/plain": [
              "3"
            ]
          },
          "metadata": {},
          "output_type": "display_data"
        }
      ],
      "source": [
        "#2 (before modification)\n",
        "\n",
        "x = 0\n",
        "for j in range(1,100): #Emergency brakes\n",
        "  x = x-(np.exp(x)+x)/(np.exp(x)+1)\n",
        "  display(x)\n",
        "\n",
        "  fc = np.exp(x)+x\n",
        "\n",
        "  if abs(fc) < 1e-5:\n",
        "    display(j)\n",
        "    break"
      ]
    },
    {
      "cell_type": "code",
      "execution_count": null,
      "id": "T4OuTVxMS8Uv",
      "metadata": {
        "colab": {
          "base_uri": "https://localhost:8080/"
        },
        "id": "T4OuTVxMS8Uv",
        "outputId": "13982e09-fb6f-4de9-d995-65bf63c54def"
      },
      "outputs": [
        {
          "name": "stdout",
          "output_type": "stream",
          "text": [
            "x = -0.5\n",
            "x = -0.5663110031972182\n",
            "x = -0.5671431650348622\n",
            "number of iterations = 3\n"
          ]
        }
      ],
      "source": [
        "#2 (after modification)\n",
        "\n",
        "def f(x):\n",
        "  y = np.exp(x)+x\n",
        "#  y = np.sin(x)+x\n",
        "  return y\n",
        "\n",
        "def fp(x): #f'(x)\n",
        "  y = np.exp(x)+1\n",
        "#  y = np.cos(x)+1\n",
        "  return y\n",
        "\n",
        "x = 0\n",
        "for j in range(1,100): #Emergency brakes\n",
        "  x = x-f(x)/fp(x)\n",
        "  print('x =',x)\n",
        "\n",
        "  fc = f(x)\n",
        "\n",
        "  if abs(fc) < 1e-5:\n",
        "    print('number of iterations =',j)\n",
        "    break"
      ]
    },
    {
      "cell_type": "code",
      "execution_count": null,
      "id": "7VuOy8j9xnQt",
      "metadata": {
        "colab": {
          "base_uri": "https://localhost:8080/"
        },
        "id": "7VuOy8j9xnQt",
        "outputId": "9a428075-4e35-4e90-8c06-5b5898f2bd8f"
      },
      "outputs": [
        {
          "name": "stdout",
          "output_type": "stream",
          "text": [
            "x = [-5.00000000e+00 -4.90000000e+00 -4.80000000e+00 -4.70000000e+00\n",
            " -4.60000000e+00 -4.50000000e+00 -4.40000000e+00 -4.30000000e+00\n",
            " -4.20000000e+00 -4.10000000e+00 -4.00000000e+00 -3.90000000e+00\n",
            " -3.80000000e+00 -3.70000000e+00 -3.60000000e+00 -3.50000000e+00\n",
            " -3.40000000e+00 -3.30000000e+00 -3.20000000e+00 -3.10000000e+00\n",
            " -3.00000000e+00 -2.90000000e+00 -2.80000000e+00 -2.70000000e+00\n",
            " -2.60000000e+00 -2.50000000e+00 -2.40000000e+00 -2.30000000e+00\n",
            " -2.20000000e+00 -2.10000000e+00 -2.00000000e+00 -1.90000000e+00\n",
            " -1.80000000e+00 -1.70000000e+00 -1.60000000e+00 -1.50000000e+00\n",
            " -1.40000000e+00 -1.30000000e+00 -1.20000000e+00 -1.10000000e+00\n",
            " -1.00000000e+00 -9.00000000e-01 -8.00000000e-01 -7.00000000e-01\n",
            " -6.00000000e-01 -5.00000000e-01 -4.00000000e-01 -3.00000000e-01\n",
            " -2.00000000e-01 -1.00000000e-01 -1.77635684e-14  1.00000000e-01\n",
            "  2.00000000e-01  3.00000000e-01  4.00000000e-01  5.00000000e-01\n",
            "  6.00000000e-01  7.00000000e-01  8.00000000e-01  9.00000000e-01\n",
            "  1.00000000e+00  1.10000000e+00  1.20000000e+00  1.30000000e+00\n",
            "  1.40000000e+00  1.50000000e+00  1.60000000e+00  1.70000000e+00\n",
            "  1.80000000e+00  1.90000000e+00  2.00000000e+00  2.10000000e+00\n",
            "  2.20000000e+00  2.30000000e+00  2.40000000e+00  2.50000000e+00\n",
            "  2.60000000e+00  2.70000000e+00  2.80000000e+00  2.90000000e+00\n",
            "  3.00000000e+00  3.10000000e+00  3.20000000e+00  3.30000000e+00\n",
            "  3.40000000e+00  3.50000000e+00  3.60000000e+00  3.70000000e+00\n",
            "  3.80000000e+00  3.90000000e+00  4.00000000e+00  4.10000000e+00\n",
            "  4.20000000e+00  4.30000000e+00  4.40000000e+00  4.50000000e+00\n",
            "  4.60000000e+00  4.70000000e+00  4.80000000e+00  4.90000000e+00\n",
            "  5.00000000e+00]\n",
            "y = [ 4.80000000e+01  4.66100000e+01  4.52400000e+01  4.38900000e+01\n",
            "  4.25600000e+01  4.12500000e+01  3.99600000e+01  3.86900000e+01\n",
            "  3.74400000e+01  3.62100000e+01  3.50000000e+01  3.38100000e+01\n",
            "  3.26400000e+01  3.14900000e+01  3.03600000e+01  2.92500000e+01\n",
            "  2.81600000e+01  2.70900000e+01  2.60400000e+01  2.50100000e+01\n",
            "  2.40000000e+01  2.30100000e+01  2.20400000e+01  2.10900000e+01\n",
            "  2.01600000e+01  1.92500000e+01  1.83600000e+01  1.74900000e+01\n",
            "  1.66400000e+01  1.58100000e+01  1.50000000e+01  1.42100000e+01\n",
            "  1.34400000e+01  1.26900000e+01  1.19600000e+01  1.12500000e+01\n",
            "  1.05600000e+01  9.89000000e+00  9.24000000e+00  8.61000000e+00\n",
            "  8.00000000e+00  7.41000000e+00  6.84000000e+00  6.29000000e+00\n",
            "  5.76000000e+00  5.25000000e+00  4.76000000e+00  4.29000000e+00\n",
            "  3.84000000e+00  3.41000000e+00  3.00000000e+00  2.61000000e+00\n",
            "  2.24000000e+00  1.89000000e+00  1.56000000e+00  1.25000000e+00\n",
            "  9.60000000e-01  6.90000000e-01  4.40000000e-01  2.10000000e-01\n",
            "  4.26325641e-14 -1.90000000e-01 -3.60000000e-01 -5.10000000e-01\n",
            " -6.40000000e-01 -7.50000000e-01 -8.40000000e-01 -9.10000000e-01\n",
            " -9.60000000e-01 -9.90000000e-01 -1.00000000e+00 -9.90000000e-01\n",
            " -9.60000000e-01 -9.10000000e-01 -8.40000000e-01 -7.50000000e-01\n",
            " -6.40000000e-01 -5.10000000e-01 -3.60000000e-01 -1.90000000e-01\n",
            " -5.68434189e-14  2.10000000e-01  4.40000000e-01  6.90000000e-01\n",
            "  9.60000000e-01  1.25000000e+00  1.56000000e+00  1.89000000e+00\n",
            "  2.24000000e+00  2.61000000e+00  3.00000000e+00  3.41000000e+00\n",
            "  3.84000000e+00  4.29000000e+00  4.76000000e+00  5.25000000e+00\n",
            "  5.76000000e+00  6.29000000e+00  6.84000000e+00  7.41000000e+00\n",
            "  8.00000000e+00]\n"
          ]
        }
      ],
      "source": [
        "#3\n",
        "\n",
        "x = np.arange(-5,5.1,0.1)\n",
        "y = f(x)\n",
        "\n",
        "print('x =',x)\n",
        "print('y =',y)"
      ]
    },
    {
      "cell_type": "code",
      "execution_count": null,
      "id": "YNA9nzgSvv75",
      "metadata": {
        "colab": {
          "base_uri": "https://localhost:8080/"
        },
        "id": "YNA9nzgSvv75",
        "outputId": "885250a4-fcb5-4b89-f038-72204144ce1f"
      },
      "outputs": [
        {
          "name": "stdout",
          "output_type": "stream",
          "text": [
            "[  0.   1.   1.   1.   1.   1.   2.   2.   2.   2.   2.   2.   2.   2.\n",
            "   3.   3.   3.   4.   6.  87. 100.   5.   6. 100.  10.  15. 100. 100.\n",
            " 100.   4. 100.  27. 100. 100. 100. 100.   7.   4. 100.   4.   5.]\n"
          ]
        }
      ],
      "source": [
        "#4\n",
        "\n",
        "def newtonraphson(xstart,maxiters):\n",
        "  x = xstart\n",
        "\n",
        "  for j in range(0,maxiters):\n",
        "    x = x-f(x)/fp(x)\n",
        "\n",
        "    fc = f(x)\n",
        "\n",
        "    if abs(fc) < 1e-5:\n",
        "      iters = j #algorithm succeeds, record number of iterations\n",
        "      break\n",
        "    iters = maxiters #algorithm fails, reached max iterations\n",
        "  return iters\n",
        "\n",
        "xvec = np.arange(0,4.1,0.1)\n",
        "itervec = np.array([])\n",
        "\n",
        "for xn in xvec:\n",
        "  itervec = np.append(itervec,newtonraphson(xn,100))\n",
        "\n",
        "print(itervec)"
      ]
    },
    {
      "cell_type": "code",
      "execution_count": null,
      "id": "k-7PCl-uxOv0",
      "metadata": {
        "colab": {
          "base_uri": "https://localhost:8080/"
        },
        "id": "k-7PCl-uxOv0",
        "outputId": "01a88910-eecb-4b4f-c377-79806fd8bcf4"
      },
      "outputs": [
        {
          "name": "stdout",
          "output_type": "stream",
          "text": [
            "xstart=? 3.99\n",
            "maxiters=? 1000\n",
            "the number of iterations was 128\n"
          ]
        }
      ],
      "source": [
        "#5\n",
        "\n",
        "def nrask():\n",
        "  xstart = float(input('xstart=? '))\n",
        "  maxiters = int(input('maxiters=? '))\n",
        "#  if maxiters>100:\n",
        "#    reply = input('really? y/n ')\n",
        "#    if reply=='n':\n",
        "#      maxiters = int(input('ok then maxiters=?'))\n",
        "\n",
        "  x = xstart\n",
        "\n",
        "  for j in range(0,maxiters):\n",
        "    x = x-f(x)/fp(x)\n",
        "\n",
        "    fc = f(x)\n",
        "\n",
        "    if abs(fc) < 1e-5:\n",
        "      iters = j #algorithm succeeds, record number of iterations\n",
        "      break\n",
        "    iters = maxiters #algorithm fails, reached max iterations\n",
        "  return iters\n",
        "\n",
        "output = nrask()\n",
        "print('the number of iterations was',output)"
      ]
    },
    {
      "cell_type": "code",
      "execution_count": null,
      "id": "XlVt5k3fzLvA",
      "metadata": {
        "colab": {
          "base_uri": "https://localhost:8080/",
          "height": 68
        },
        "id": "XlVt5k3fzLvA",
        "outputId": "52e21d51-75c3-49a2-fc63-2dc3c4af98e8"
      },
      "outputs": [
        {
          "data": {
            "text/plain": [
              "5"
            ]
          },
          "metadata": {},
          "output_type": "display_data"
        },
        {
          "data": {
            "text/plain": [
              "array([ 4.00000000e+00,  3.99000000e+00, -5.46688755e+00,  1.49690794e-01,\n",
              "       -1.83509912e-01, -7.73842542e-05,  2.17500951e-07])"
            ]
          },
          "metadata": {},
          "output_type": "display_data"
        }
      ],
      "source": [
        "#6\n",
        "3\n",
        "\n",
        "xvec = np.array([4, 3.99]) #list of all x\n",
        "\n",
        "def f(x):\n",
        "  return np.sin(x)+x\n",
        "\n",
        "for j in range(1,101):\n",
        "  xn = xvec[-1] #x_n = last entry in xvec\n",
        "  xnmo = xvec[-2] #x_(n-1) = second-to-last entry in xvec\n",
        "\n",
        "  #iteration step\n",
        "  xnpo = xn - (f(xn)*(xn-xnmo))/(f(xn)-f(xnmo)) #x_(n+1)\n",
        "  xvec = np.append(xvec,xnpo)\n",
        "\n",
        "  #break out if within tolerance\n",
        "  if abs(f(xnpo)) < 1e-5:\n",
        "    break\n",
        "\n",
        "display(j) #display number of iterations taken\n",
        "display(xvec) #last value in xvec is our answer"
      ]
    },
    {
      "cell_type": "code",
      "execution_count": null,
      "id": "HPB7j6_Z3k69",
      "metadata": {
        "id": "HPB7j6_Z3k69"
      },
      "outputs": [],
      "source": []
    }
  ],
  "metadata": {
    "colab": {
      "provenance": []
    },
    "kernelspec": {
      "display_name": "Python 3 (ipykernel)",
      "language": "python",
      "name": "python3"
    },
    "language_info": {
      "codemirror_mode": {
        "name": "ipython",
        "version": 3
      },
      "file_extension": ".py",
      "mimetype": "text/x-python",
      "name": "python",
      "nbconvert_exporter": "python",
      "pygments_lexer": "ipython3",
      "version": "3.12.7"
    }
  },
  "nbformat": 4,
  "nbformat_minor": 5
}
