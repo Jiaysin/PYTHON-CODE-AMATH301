{
 "cells": [
  {
   "cell_type": "markdown",
   "id": "ff5b59e8-c7bd-4a40-a8bf-45776447a27d",
   "metadata": {},
   "source": [
    "Naive Gaussian elimination and Full Gaussian elimination (with partial pivoting) functions\n",
    "UW AMATH 301 - Jakob Kotas"
   ]
  },
  {
   "cell_type": "code",
   "execution_count": 8,
   "id": "eb592164-45e1-4cd5-976d-1f6d947b0f38",
   "metadata": {},
   "outputs": [],
   "source": [
    "import numpy as np"
   ]
  },
  {
   "cell_type": "code",
   "execution_count": 4,
   "id": "581b543b-e233-443b-9a80-521394fc4914",
   "metadata": {},
   "outputs": [],
   "source": [
    "# implements Naive Gauss elimination without partial pivoting. may encounter a zero pivot, which breaks the algorithm.\n",
    "def naivegauss(A,b):\n",
    "    # combine A and b into an augmented matrix\n",
    "    augmat = np.hstack([A,b]) #horizontal concatenation. b must be column vector\n",
    "\n",
    "    n = len(b)\n",
    "\n",
    "    # forward elimination\n",
    "    for i in range(0,n-1): #iterate over columns\n",
    "        for j in range(i+1,n): #iterate over rows in this column, below the pivot\n",
    "            factor = augmat[j,i]/augmat[i,i]\n",
    "            augmat[j,:] = augmat[j,:] - factor*augmat[i,:]\n",
    "\n",
    "    # back substitution\n",
    "    for i in range(n-1,-1,-1): #iterate over columns\n",
    "        for j in range(i-1,-1,-1): #iterate over rows in this column, above the pivot\n",
    "            factor = augmat[j,i]/augmat[i,i]\n",
    "            augmat[j,:] = augmat[j,:] - factor*augmat[i,:]\n",
    "\n",
    "    # scale diagonal elements to 1\n",
    "    for i in range(0,n):\n",
    "        augmat[i,:] = augmat[i,:]/augmat[i,i]\n",
    "\n",
    "    return augmat[:,n]"
   ]
  },
  {
   "cell_type": "code",
   "execution_count": 6,
   "id": "3700aa7a-8b60-4841-8ff5-33e79807ff2a",
   "metadata": {},
   "outputs": [],
   "source": [
    "# implements Gauss elimination with partial pivoting\n",
    "def gauss(A,b):\n",
    "    # combine A and b into an augmented matrix\n",
    "    augmat = np.hstack([A,b]) #horizontal concatenation. b must be column vector\n",
    "\n",
    "    n = len(b)\n",
    "\n",
    "    # forward elimination\n",
    "    for i in range(0,n-1): #iterate over columns\n",
    "        #partial pivoting steps below-------------------------------------------\n",
    "        rowtobepivot = i+np.argmax(np.abs(augmat[i:,i]))\n",
    "        if rowtobepivot!=i: #swap rows\n",
    "            augmat[[rowtobepivot,i]] = augmat[[i,rowtobepivot]]\n",
    "        #partial pivoting steps above-------------------------------------------\n",
    "\n",
    "        for j in range(i+1,n): #iterate over rows in this column, below the pivot\n",
    "            factor = augmat[j,i]/augmat[i,i]\n",
    "            augmat[j,:] = augmat[j,:] - factor*augmat[i,:]\n",
    "\n",
    "    # back substitution\n",
    "    for i in range(n-1,-1,-1): #iterate over columns\n",
    "        for j in range(i-1,-1,-1): #iterate over rows in this column, above the pivot\n",
    "            factor = augmat[j,i]/augmat[i,i]\n",
    "            augmat[j,:] = augmat[j,:] - factor*augmat[i,:]\n",
    "\n",
    "    # scale diagonal elements to 1\n",
    "    for i in range(0,n):\n",
    "        augmat[i,:] = augmat[i,:]/augmat[i,i]\n",
    "\n",
    "    return augmat[:,n]"
   ]
  },
  {
   "cell_type": "code",
   "execution_count": null,
   "id": "c8857f95-0d40-4549-a4ba-b9ac0060a88e",
   "metadata": {},
   "outputs": [],
   "source": []
  }
 ],
 "metadata": {
  "kernelspec": {
   "display_name": "Python 3 (ipykernel)",
   "language": "python",
   "name": "python3"
  },
  "language_info": {
   "codemirror_mode": {
    "name": "ipython",
    "version": 3
   },
   "file_extension": ".py",
   "mimetype": "text/x-python",
   "name": "python",
   "nbconvert_exporter": "python",
   "pygments_lexer": "ipython3",
   "version": "3.12.7"
  }
 },
 "nbformat": 4,
 "nbformat_minor": 5
}
