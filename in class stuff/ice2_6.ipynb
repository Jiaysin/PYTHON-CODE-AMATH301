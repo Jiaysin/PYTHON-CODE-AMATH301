{
 "cells": [
  {
   "cell_type": "code",
   "execution_count": 111,
   "id": "e0806647-d84c-4dc2-b186-95ef05c220dd",
   "metadata": {},
   "outputs": [],
   "source": [
    "import numpy as np\n",
    "from scipy.optimize import fsolve"
   ]
  },
  {
   "cell_type": "code",
   "execution_count": 137,
   "id": "944440dc-0cac-442b-b241-021bbe7108fb",
   "metadata": {},
   "outputs": [
    {
     "name": "stdout",
     "output_type": "stream",
     "text": [
      "x = 0\n",
      "x = -1.0\n",
      "x = -0.8\n",
      "x = -0.7312335958005249\n",
      "x = -0.724548480011462\n",
      "x = -0.7244919629910425\n",
      "x = -0.7244919590005157\n",
      "y = 0.5248885986564049\n",
      "number of iterations = 6\n"
     ]
    }
   ],
   "source": [
    "#1\n",
    "\n",
    "#plugging in y=x^2 into x=y^2-1 gives\n",
    "#   f(x)=x^4-x-1=0\n",
    "\n",
    "def f(x):\n",
    "    return x**4-x-1\n",
    "\n",
    "def fp(x): #f'(x)\n",
    "    return 4*(x**3)-1\n",
    "\n",
    "x0 = 0 #initial guess\n",
    "#x0 = 1\n",
    "\n",
    "x = x0\n",
    "for j in range(1,101):\n",
    "    print('x =',x)\n",
    "    xnew = x-f(x)/fp(x)\n",
    "\n",
    "    if abs(xnew-x)<1e-5:\n",
    "        x = xnew\n",
    "        break\n",
    "    x = xnew\n",
    "\n",
    "print('x =',x)\n",
    "print('y =',x**2)\n",
    "print('number of iterations =',j)"
   ]
  },
  {
   "cell_type": "code",
   "execution_count": 109,
   "id": "5cacda35-efc4-4980-8e4a-f6cb72364ac9",
   "metadata": {},
   "outputs": [],
   "source": [
    "#2\n",
    "\n",
    "def f(v): #contains the functions such that f1(x,y)=0, f2(x,y)=0\n",
    "    x = v[0]\n",
    "    y = v[1]\n",
    "    f1 = x*y+x**4-y**3\n",
    "    f2 = (x**2)*y+(y**2)*x-1\n",
    "    return np.array([f1,f2])\n",
    "\n",
    "def J(v): #jacobian\n",
    "    x = v[0]\n",
    "    y = v[1]\n",
    "    df1dx = y+4*(x**3)\n",
    "    df1dy = x-3*(y**2)\n",
    "    df2dx = 2*x*y+y**2\n",
    "    df2dy = x**2+2*x*y\n",
    "    return np.array([[df1dx,df1dy],[df2dx,df2dy]])"
   ]
  },
  {
   "cell_type": "code",
   "execution_count": 113,
   "id": "707c61e5-dfa0-4ee5-aa57-d3dd699bc0ee",
   "metadata": {},
   "outputs": [
    {
     "name": "stdout",
     "output_type": "stream",
     "text": [
      "[x,y] = [0.66632221 0.93639462]\n",
      "number of iterations = 5\n"
     ]
    }
   ],
   "source": [
    "#using Newton-Raphson\n",
    "\n",
    "v0 = np.array([1,0]) #(2a) initial guess\n",
    "#v0 = np.array([-1,0]) #(2c)\n",
    "#v0 = np.array([-2,-1]) #(2c)\n",
    "#v0 = np.array([0,0]) #(2c)\n",
    "\n",
    "v = v0\n",
    "for j in range(1,101):\n",
    "    deltax = -np.linalg.solve(J(v),f(v))\n",
    "    v = v+deltax\n",
    "\n",
    "    if np.linalg.norm(deltax,2) < 1e-6:\n",
    "        break\n",
    "\n",
    "print('[x,y] =',v)\n",
    "print('number of iterations =',j)"
   ]
  },
  {
   "cell_type": "code",
   "execution_count": 115,
   "id": "00f664fc-1482-468d-8d87-2edad941caa1",
   "metadata": {},
   "outputs": [
    {
     "name": "stdout",
     "output_type": "stream",
     "text": [
      "[x,y] = [0.66632221 0.93639462]\n"
     ]
    }
   ],
   "source": [
    "#(2b) using built-in python command \"fsolve\"\n",
    "\n",
    "v0 = np.array([1,0]) #initial guess\n",
    "vsoln = fsolve(f,v0)\n",
    "print('[x,y] =',vsoln)"
   ]
  },
  {
   "cell_type": "code",
   "execution_count": 147,
   "id": "f53469bf-43c6-4ddc-ae66-f869ad57dc4f",
   "metadata": {},
   "outputs": [
    {
     "name": "stdout",
     "output_type": "stream",
     "text": [
      "[x,y,z] = [1 1 1]\n",
      "[x,y,z] = [0.66666667 0.66666667 0.66666667]\n",
      "[x,y,z] = [0.53333333 0.53333333 0.53333333]\n",
      "[x,y,z] = [0.50196078 0.50196078 0.50196078]\n",
      "[x,y,z] = [0.50000763 0.50000763 0.50000763]\n",
      "[x,y,z] = [0.5 0.5 0.5]\n",
      "[x,y,z] = [0.5 0.5 0.5]\n",
      "number of iterations = 6\n"
     ]
    }
   ],
   "source": [
    "#3\n",
    "\n",
    "def f(v): #contains the functions such that f1(x,y,z)=0, f2(x,y,z)=0, f3(x,y,z)=0\n",
    "    x = v[0]\n",
    "    y = v[1]\n",
    "    z = v[2]\n",
    "    f1 = x**2+y**2-z\n",
    "    f2 = x**2+z**2-y\n",
    "    f3 = y**2+z**2-x\n",
    "    return np.array([f1,f2,f3])\n",
    "\n",
    "def J(v): #jacobian\n",
    "    x = v[0]\n",
    "    y = v[1]\n",
    "    z = v[2]\n",
    "    df1dx = 2*x\n",
    "    df1dy = 2*y\n",
    "    df1dz = -1\n",
    "    df2dx = 2*x\n",
    "    df2dy = -1\n",
    "    df2dz = 2*z\n",
    "    df3dx = -1\n",
    "    df3dy = 2*y\n",
    "    df3dz = 2*z\n",
    "    return np.array([[df1dx,df1dy,df1dz],[df2dx,df2dy,df2dz],[df3dx,df3dy,df3dz]])\n",
    "\n",
    "v0 = np.array([1,1,1]) #initial guess\n",
    "\n",
    "v = v0\n",
    "for j in range(1,101):\n",
    "    print('[x,y,z] =',v)\n",
    "    deltax = -np.linalg.solve(J(v),f(v))\n",
    "    v = v+deltax\n",
    "\n",
    "    if np.linalg.norm(deltax,2) < 1e-6:\n",
    "        break\n",
    "\n",
    "print('[x,y,z] =',v)\n",
    "print('number of iterations =',j)"
   ]
  },
  {
   "cell_type": "code",
   "execution_count": null,
   "id": "260647d0-36d8-41aa-9030-23f3283cd969",
   "metadata": {},
   "outputs": [],
   "source": []
  }
 ],
 "metadata": {
  "kernelspec": {
   "display_name": "Python 3 (ipykernel)",
   "language": "python",
   "name": "python3"
  },
  "language_info": {
   "codemirror_mode": {
    "name": "ipython",
    "version": 3
   },
   "file_extension": ".py",
   "mimetype": "text/x-python",
   "name": "python",
   "nbconvert_exporter": "python",
   "pygments_lexer": "ipython3",
   "version": "3.12.7"
  }
 },
 "nbformat": 4,
 "nbformat_minor": 5
}
