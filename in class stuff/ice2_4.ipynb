{
 "cells": [
  {
   "cell_type": "markdown",
   "id": "a7ad6c45-0f81-4333-8e86-ec562e4f8843",
   "metadata": {},
   "source": [
    "In-class exercise 2.4\n",
    "UW AMATH 301 - Jakob Kotas"
   ]
  },
  {
   "cell_type": "code",
   "execution_count": 15,
   "id": "72fd3018-ea90-4b25-8d03-cf54751e061a",
   "metadata": {},
   "outputs": [],
   "source": [
    "import numpy as np"
   ]
  },
  {
   "cell_type": "code",
   "execution_count": 3,
   "id": "0d660426-b28a-44c7-89dc-cd01a1bf63e0",
   "metadata": {},
   "outputs": [
    {
     "name": "stdout",
     "output_type": "stream",
     "text": [
      "eigenvalues = [ 2. -5.]\n",
      "eigenvector matrix = [[ 0.89442719 -0.31622777]\n",
      " [ 0.4472136   0.9486833 ]]\n",
      "scaled eigenvectors = [1.  0.5] , [ 1. -3.]\n"
     ]
    }
   ],
   "source": [
    "#2c\n",
    "\n",
    "A = np.array([[1,2],[3,-4]])\n",
    "eigvals, eigvecs = np.linalg.eig(A)\n",
    "print('eigenvalues =',eigvals)\n",
    "print('eigenvector matrix =',eigvecs) #columns of matrix are eigenvectors, in same order as eigvals row vector\n",
    "\n",
    "scaled_eigvec1 = eigvecs[:,0]/eigvecs[0,0] #scales the eigenvector so that its first component is 1\n",
    "scaled_eigvec2 = eigvecs[:,1]/eigvecs[0,1]\n",
    "print('scaled eigenvectors =',scaled_eigvec1,',',scaled_eigvec2)"
   ]
  },
  {
   "cell_type": "code",
   "execution_count": 17,
   "id": "e74f9b57-8b82-41c1-be93-f6e0d35a10f3",
   "metadata": {},
   "outputs": [
    {
     "name": "stdout",
     "output_type": "stream",
     "text": [
      "eigenvector = [[0.57723448]\n",
      " [0.57723448]\n",
      " [0.57758177]]\n",
      "eigenvalue = [[3.00050086]]\n"
     ]
    }
   ],
   "source": [
    "#3c\n",
    "\n",
    "A=np.array([[-1,1.5,2.5],[0,0.5,2.5],[0,2.5,0.5]])\n",
    "x=np.array([[0],[0],[1]])\n",
    "\n",
    "for j in range(1,21):\n",
    "    product = A@x\n",
    "    xnew = product/np.linalg.norm(product,2)\n",
    "    x = xnew\n",
    "\n",
    "print('eigenvector =',x)\n",
    "eigval = (x.T@A@x)/(x.T@x)\n",
    "print('eigenvalue =',eigval)"
   ]
  },
  {
   "cell_type": "code",
   "execution_count": null,
   "id": "eabbbea9-4664-4cf9-9eea-6b8ff595bf98",
   "metadata": {},
   "outputs": [],
   "source": []
  }
 ],
 "metadata": {
  "kernelspec": {
   "display_name": "Python 3 (ipykernel)",
   "language": "python",
   "name": "python3"
  },
  "language_info": {
   "codemirror_mode": {
    "name": "ipython",
    "version": 3
   },
   "file_extension": ".py",
   "mimetype": "text/x-python",
   "name": "python",
   "nbconvert_exporter": "python",
   "pygments_lexer": "ipython3",
   "version": "3.12.7"
  }
 },
 "nbformat": 4,
 "nbformat_minor": 5
}
