{
  "nbformat": 4,
  "nbformat_minor": 0,
  "metadata": {
    "colab": {
      "provenance": []
    },
    "kernelspec": {
      "name": "python3",
      "display_name": "Python 3"
    },
    "language_info": {
      "name": "python"
    }
  },
  "cells": [
    {
      "cell_type": "markdown",
      "source": [
        "In-class exercise 2.3\n",
        "UW AMATH 301 - Jakob Kotas"
      ],
      "metadata": {
        "id": "VE8x9Z066VI6"
      }
    },
    {
      "cell_type": "code",
      "source": [
        "import numpy as np\n",
        "from scipy import optimize\n",
        "import matplotlib.pyplot as plt"
      ],
      "metadata": {
        "id": "OTjIsgjy7Gak"
      },
      "execution_count": 2,
      "outputs": []
    },
    {
      "cell_type": "code",
      "source": [
        "#Kutz code for gradient descent\n",
        "\n",
        "# define optimization\n",
        "def tausearch(tau):\n",
        "    x0 = x - tau*(3*x + 2*y - 2)\n",
        "    y0 = y - tau*(2*x + 6*y + 8)\n",
        "    mintau = (3/2)*x0*x0+2*x0*y0+3*y0*y0-2*x0+8*y0\n",
        "    return mintau\n",
        "\n",
        "x = 1     # initial guesses for x and y\n",
        "y = -0.2\n",
        "f = (3/2)*x*x+2*x*y+3*y*y-2*x+8*y\n",
        "\n",
        "# track values\n",
        "xval = np.array(x)\n",
        "yval = np.array(y)\n",
        "\n",
        "\n",
        "for j in range(0,100):\n",
        "\n",
        "    tau = optimize.fmin(tausearch,0.2)\n",
        "\n",
        "    x = x - tau*(3*x + 2*y - 2)\n",
        "    y = y - tau*(2*x + 6*y + 8)\n",
        "    fold = f\n",
        "    f = (3/2)*x*x+2*x*y+3*y*y-2*x+8*y\n",
        "\n",
        "    xval = np.append(xval, x)\n",
        "    yval = np.append(yval, y)\n",
        "\n",
        "    if abs(f-fold) < 1e-5:\n",
        "        break\n",
        "\n",
        "print(x)\n",
        "print(y)\n",
        "\n",
        "plt.plot(xval,yval)\n",
        "plt.axis([0, 3, -3, 1])"
      ],
      "metadata": {
        "id": "k7FGZ-vBEqQQ",
        "colab": {
          "base_uri": "https://localhost:8080/",
          "height": 1000
        },
        "outputId": "96e6ca30-160f-43af-af3d-f4e9a414b5fa"
      },
      "execution_count": 3,
      "outputs": [
        {
          "output_type": "stream",
          "name": "stdout",
          "text": [
            "Optimization terminated successfully.\n",
            "         Current function value: -8.596457\n",
            "         Iterations: 11\n",
            "         Function evaluations: 22\n",
            "Optimization terminated successfully.\n",
            "         Current function value: -9.805956\n",
            "         Iterations: 15\n",
            "         Function evaluations: 30\n",
            "Optimization terminated successfully.\n",
            "         Current function value: -9.992862\n",
            "         Iterations: 12\n",
            "         Function evaluations: 24\n",
            "Optimization terminated successfully.\n",
            "         Current function value: -9.994555\n",
            "         Iterations: 10\n",
            "         Function evaluations: 20\n",
            "Optimization terminated successfully.\n",
            "         Current function value: -9.998354\n",
            "         Iterations: 11\n",
            "         Function evaluations: 22\n",
            "Optimization terminated successfully.\n",
            "         Current function value: -9.999764\n",
            "         Iterations: 8\n",
            "         Function evaluations: 16\n",
            "Optimization terminated successfully.\n",
            "         Current function value: -9.999969\n",
            "         Iterations: 13\n",
            "         Function evaluations: 26\n",
            "Optimization terminated successfully.\n",
            "         Current function value: -9.999999\n",
            "         Iterations: 12\n",
            "         Function evaluations: 24\n",
            "Optimization terminated successfully.\n",
            "         Current function value: -10.000000\n",
            "         Iterations: 10\n",
            "         Function evaluations: 20\n",
            "[2.0004357]\n",
            "[-2.00015396]\n"
          ]
        },
        {
          "output_type": "execute_result",
          "data": {
            "text/plain": [
              "(0.0, 3.0, -3.0, 1.0)"
            ]
          },
          "metadata": {},
          "execution_count": 3
        },
        {
          "output_type": "display_data",
          "data": {
            "text/plain": [
              "<Figure size 640x480 with 1 Axes>"
            ],
            "image/png": "[encoded data removed]"
          },
          "metadata": {}
        }
      ]
    },
    {
      "cell_type": "code",
      "source": [
        "#2,3\n",
        "\n",
        "def f(x1,x2):\n",
        "    return 3/2*x1**2+2*x1*x2+3*x2**2-2*x1+8*x2  #(1)\n",
        "#    return x1**2+x1*x2+x2**2/2-7*x1-2*x2 #(2)\n",
        "#    return 3*x1**2/2-2*x1*x2+x2**2/2-11*x1+6*x2 #(3a) -- A not PSD, quadratic form saddle\n",
        "#    return 3*x1**2/2+x2**2/2+12*x1+x2 #(3b) -- A not symmetric\n",
        "\n",
        "def dfdx1(x1,x2):\n",
        "    return 3*x1 + 2*x2 - 2 #(1)\n",
        "#    return 2*x1+x2-7 #(2)\n",
        "#    return 3*x1-2*x2-11 #(3a)\n",
        "#    return 3*x1+12 #(3b)\n",
        "\n",
        "def dfdx2(x1,x2):\n",
        "    return 2*x1 + 6*x2 + 8 #(1)\n",
        "#    return x1+x2-2 #(2)\n",
        "#    return -2*x1+x2+6 #(3a)\n",
        "#    return x2+1 #(3b)\n",
        "\n",
        "def tausearch(tau):\n",
        "    x1n = x1 - tau*dfdx1(x1,x2)\n",
        "    x2n = x2 - tau*dfdx2(x1,x2)\n",
        "    return f(x1n,x2n)\n",
        "\n",
        "x1 = 1     # initial guess\n",
        "x2 = -0.2\n",
        "fx1x2 = f(x1,x2)\n",
        "\n",
        "print('(x1,x2)=(',x1,',',x2,'), f(x1,x2)=',fx1x2)\n",
        "\n",
        "for j in range(1,101):\n",
        "    tau = optimize.fmin(tausearch,0.2,disp=False)\n",
        "\n",
        "    x1new = x1 - tau*dfdx1(x1,x2)\n",
        "    x2new = x2 - tau*dfdx2(x1,x2)\n",
        "    fx1x2new = f(x1new,x2new)\n",
        "\n",
        "    print('(x1,x2)=(',x1new,',',x2new,'), f(x1,x2)=',fx1x2new)\n",
        "\n",
        "    if abs(fx1x2new-fx1x2) < 1e-5:\n",
        "        break\n",
        "\n",
        "    x1 = x1new\n",
        "    x2 = x2new\n",
        "    fx1x2 = f(x1,x2)\n",
        "\n",
        "print('iterations of gradient descent:',j)\n",
        "A=np.array([[3,2],[2,6]]) #(1)\n",
        "b=np.array([[2],[-8]]) #(1)\n",
        "#A=np.array([[2,1],[1,1]]) #(2)\n",
        "#b=np.array([[7],[2]]) #(2)\n",
        "#A=np.array([[3,-2],[-2,1]]) #(3a)\n",
        "#b=np.array([[11],[-6]]) #(3a)\n",
        "#A=np.array([[3,-2],[2,1]]) #(3b)\n",
        "#b=np.array([[-12],[-1]]) #(3b)\n",
        "xauto = np.linalg.solve(A,b)\n",
        "print('solution from np.linalg.solve: (x1,x2)=',xauto)"
      ],
      "metadata": {
        "colab": {
          "base_uri": "https://localhost:8080/"
        },
        "id": "fTkhp9exWnQF",
        "outputId": "3fa66dc9-c055-4f54-fb4c-cd9b7bd5247f"
      },
      "execution_count": 32,
      "outputs": [
        {
          "output_type": "stream",
          "name": "stdout",
          "text": [
            "(x1,x2)=( 1 , -0.2 ), f(x1,x2)= -2.38\n",
            "(x1,x2)=( [0.90409375] , [-1.606625] ), f(x1,x2)= [-8.59645681]\n",
            "(x1,x2)=( [1.81499346] , [-1.6679731] ), f(x1,x2)= [-9.74078757]\n",
            "(x1,x2)=( [1.79755651] , [-1.9273901] ), f(x1,x2)= [-9.95210716]\n",
            "(x1,x2)=( [1.96572147] , [-1.93858837] ), f(x1,x2)= [-9.99113351]\n",
            "(x1,x2)=( [1.96252501] , [-1.98655098] ), f(x1,x2)= [-9.99835881]\n",
            "(x1,x2)=( [1.99366884] , [-1.98864266] ), f(x1,x2)= [-9.99969672]\n",
            "(x1,x2)=( [1.99307374] , [-1.9975154] ), f(x1,x2)= [-9.99994394]\n",
            "(x1,x2)=( [1.99882818] , [-1.99789943] ), f(x1,x2)= [-9.99998963]\n",
            "(x1,x2)=( [1.99871852] , [-1.99954019] ), f(x1,x2)= [-9.99999808]\n",
            "iterations of gradient descent: 9\n",
            "solution from np.linalg.solve: (x1,x2)= [[ 2.]\n",
            " [-2.]]\n"
          ]
        }
      ]
    },
    {
      "cell_type": "code",
      "source": [],
      "metadata": {
        "id": "F9ZF-9KEZjAQ"
      },
      "execution_count": null,
      "outputs": []
    }
  ]
}