{
  "cells": [
    {
      "cell_type": "markdown",
      "id": "26a887f2-8c33-4446-a891-cab8492810e2",
      "metadata": {
        "id": "26a887f2-8c33-4446-a891-cab8492810e2"
      },
      "source": [
        "In-class exercise 1.3\n",
        "UW AMATH 301 - Jakob Kotas"
      ]
    },
    {
      "cell_type": "code",
      "execution_count": 1,
      "id": "fGJvPU_GIKVy",
      "metadata": {
        "id": "fGJvPU_GIKVy"
      },
      "outputs": [],
      "source": [
        "import numpy as np"
      ]
    },
    {
      "cell_type": "code",
      "execution_count": null,
      "id": "qsb03gI_63O9",
      "metadata": {
        "colab": {
          "base_uri": "https://localhost:8080/"
        },
        "id": "qsb03gI_63O9",
        "outputId": "b13e877e-3117-47d0-ec42-371e42298544"
      },
      "outputs": [
        {
          "name": "stdout",
          "output_type": "stream",
          "text": [
            "-3.096414598500469\n",
            "2.194579281487863e-06\n"
          ]
        }
      ],
      "source": [
        "#Newton-Raphson code presented in video\n",
        "#Finds a root of f(x)=e^x-tan(x) with initial guess x=-4\n",
        "\n",
        "x = -4  # initial guess\n",
        "\n",
        "for j in range(0,100):\n",
        "\n",
        "    x = x - ( np.exp(x) - np.tan(x) )/( np.exp(x)-(1/np.cos(x))**2 )\n",
        "    #display(x)\n",
        "\n",
        "    fc = np.exp(x) - np.tan(x)\n",
        "\n",
        "    if abs(fc) < 1e-5:\n",
        "        break\n",
        "\n",
        "print(x)\n",
        "print(fc)"
      ]
    },
    {
      "cell_type": "code",
      "execution_count": null,
      "id": "T4OuTVxMS8Uv",
      "metadata": {
        "colab": {
          "base_uri": "https://localhost:8080/",
          "height": 86
        },
        "id": "T4OuTVxMS8Uv",
        "outputId": "9826a8a1-06bc-41e8-bfd6-530061f6722e"
      },
      "outputs": [
        {
          "data": {
            "text/plain": [
              "-0.5"
            ]
          },
          "metadata": {},
          "output_type": "display_data"
        },
        {
          "data": {
            "text/plain": [
              "-0.5663110031972182"
            ]
          },
          "metadata": {},
          "output_type": "display_data"
        },
        {
          "data": {
            "text/plain": [
              "-0.5671431650348622"
            ]
          },
          "metadata": {},
          "output_type": "display_data"
        },
        {
          "data": {
            "text/plain": [
              "2"
            ]
          },
          "metadata": {},
          "output_type": "display_data"
        }
      ],
      "source": [
        "#1\n",
        "\n",
        "x = 0\n",
        "for j in range(0,100): #Emergency brakes\n",
        "  x = x-(np.exp(x)+x)/(np.exp(x)+1)\n",
        "  display(x)\n",
        "\n",
        "  fc = np.exp(x)+x\n",
        "\n",
        "  if abs(fc) < 1e-5:\n",
        "    display(j)\n",
        "    break"
      ]
    },
    {
      "cell_type": "markdown",
      "id": "f8e95a5c",
      "metadata": {},
      "source": []
    },
    {
      "cell_type": "code",
      "execution_count": 9,
      "id": "cj_w-nswIqi4",
      "metadata": {
        "colab": {
          "base_uri": "https://localhost:8080/",
          "height": 1000
        },
        "id": "cj_w-nswIqi4",
        "outputId": "faa69c7b-81b2-4b2a-f4db-2ee3a8cae9ce"
      },
      "outputs": [
        {
          "data": {
            "text/plain": [
              "-2.9829265454696623"
            ]
          },
          "metadata": {},
          "output_type": "display_data"
        },
        {
          "data": {
            "text/plain": [
              "247.06940432293337"
            ]
          },
          "metadata": {},
          "output_type": "display_data"
        },
        {
          "data": {
            "text/plain": [
              "-194.86730267636662"
            ]
          },
          "metadata": {},
          "output_type": "display_data"
        },
        {
          "data": {
            "text/plain": [
              "-97.19806133839923"
            ]
          },
          "metadata": {},
          "output_type": "display_data"
        },
        {
          "data": {
            "text/plain": [
              "5240.84203706246"
            ]
          },
          "metadata": {},
          "output_type": "display_data"
        },
        {
          "data": {
            "text/plain": [
              "2307.1025199019423"
            ]
          },
          "metadata": {},
          "output_type": "display_data"
        },
        {
          "data": {
            "text/plain": [
              "642.9602484991492"
            ]
          },
          "metadata": {},
          "output_type": "display_data"
        },
        {
          "data": {
            "text/plain": [
              "-603.3685560884842"
            ]
          },
          "metadata": {},
          "output_type": "display_data"
        },
        {
          "data": {
            "text/plain": [
              "-299.0592095303043"
            ]
          },
          "metadata": {},
          "output_type": "display_data"
        },
        {
          "data": {
            "text/plain": [
              "1367.0289773829252"
            ]
          },
          "metadata": {},
          "output_type": "display_data"
        },
        {
          "data": {
            "text/plain": [
              "-13229.580722223332"
            ]
          },
          "metadata": {},
          "output_type": "display_data"
        },
        {
          "data": {
            "text/plain": [
              "226082.25703563486"
            ]
          },
          "metadata": {},
          "output_type": "display_data"
        },
        {
          "data": {
            "text/plain": [
              "98746.44142049958"
            ]
          },
          "metadata": {},
          "output_type": "display_data"
        },
        {
          "data": {
            "text/plain": [
              "49252.42112203866"
            ]
          },
          "metadata": {},
          "output_type": "display_data"
        },
        {
          "data": {
            "text/plain": [
              "4564.404089056632"
            ]
          },
          "metadata": {},
          "output_type": "display_data"
        },
        {
          "data": {
            "text/plain": [
              "-80015.33939836631"
            ]
          },
          "metadata": {},
          "output_type": "display_data"
        },
        {
          "data": {
            "text/plain": [
              "-27328.51988755478"
            ]
          },
          "metadata": {},
          "output_type": "display_data"
        },
        {
          "data": {
            "text/plain": [
              "1420468.4850614814"
            ]
          },
          "metadata": {},
          "output_type": "display_data"
        },
        {
          "data": {
            "text/plain": [
              "-9813575.134788137"
            ]
          },
          "metadata": {},
          "output_type": "display_data"
        },
        {
          "data": {
            "text/plain": [
              "-4903767.971179682"
            ]
          },
          "metadata": {},
          "output_type": "display_data"
        },
        {
          "data": {
            "text/plain": [
              "-2256339.0897375876"
            ]
          },
          "metadata": {},
          "output_type": "display_data"
        },
        {
          "data": {
            "text/plain": [
              "301113161.0366035"
            ]
          },
          "metadata": {},
          "output_type": "display_data"
        },
        {
          "data": {
            "text/plain": [
              "150436119.5822473"
            ]
          },
          "metadata": {},
          "output_type": "display_data"
        },
        {
          "data": {
            "text/plain": [
              "73247488.09919083"
            ]
          },
          "metadata": {},
          "output_type": "display_data"
        },
        {
          "data": {
            "text/plain": [
              "17304410.198444664"
            ]
          },
          "metadata": {},
          "output_type": "display_data"
        },
        {
          "data": {
            "text/plain": [
              "-123876718.5396981"
            ]
          },
          "metadata": {},
          "output_type": "display_data"
        },
        {
          "data": {
            "text/plain": [
              "-56759749.79867725"
            ]
          },
          "metadata": {},
          "output_type": "display_data"
        },
        {
          "data": {
            "text/plain": [
              "316048.85306952894"
            ]
          },
          "metadata": {},
          "output_type": "display_data"
        },
        {
          "data": {
            "text/plain": [
              "-27550.298565981793"
            ]
          },
          "metadata": {},
          "output_type": "display_data"
        },
        {
          "data": {
            "text/plain": [
              "-2542.18520113844"
            ]
          },
          "metadata": {},
          "output_type": "display_data"
        },
        {
          "data": {
            "text/plain": [
              "10427.47903134158"
            ]
          },
          "metadata": {},
          "output_type": "display_data"
        },
        {
          "data": {
            "text/plain": [
              "-64737.80786759458"
            ]
          },
          "metadata": {},
          "output_type": "display_data"
        },
        {
          "data": {
            "text/plain": [
              "78192.92649067976"
            ]
          },
          "metadata": {},
          "output_type": "display_data"
        },
        {
          "data": {
            "text/plain": [
              "15806.43345894821"
            ]
          },
          "metadata": {},
          "output_type": "display_data"
        },
        {
          "data": {
            "text/plain": [
              "-14049.504684476942"
            ]
          },
          "metadata": {},
          "output_type": "display_data"
        },
        {
          "data": {
            "text/plain": [
              "-6861.592634677909"
            ]
          },
          "metadata": {},
          "output_type": "display_data"
        },
        {
          "data": {
            "text/plain": [
              "-3320.6715511598677"
            ]
          },
          "metadata": {},
          "output_type": "display_data"
        },
        {
          "data": {
            "text/plain": [
              "100814986.96875535"
            ]
          },
          "metadata": {},
          "output_type": "display_data"
        },
        {
          "data": {
            "text/plain": [
              "-26647702234.881157"
            ]
          },
          "metadata": {},
          "output_type": "display_data"
        },
        {
          "data": {
            "text/plain": [
              "5585109198.914898"
            ]
          },
          "metadata": {},
          "output_type": "display_data"
        },
        {
          "data": {
            "text/plain": [
              "-1540299815.379305"
            ]
          },
          "metadata": {},
          "output_type": "display_data"
        },
        {
          "data": {
            "text/plain": [
              "50417961680.23023"
            ]
          },
          "metadata": {},
          "output_type": "display_data"
        },
        {
          "data": {
            "text/plain": [
              "25034745776.133297"
            ]
          },
          "metadata": {},
          "output_type": "display_data"
        },
        {
          "data": {
            "text/plain": [
              "-18806773560.765804"
            ]
          },
          "metadata": {},
          "output_type": "display_data"
        },
        {
          "data": {
            "text/plain": [
              "-4810712518.151817"
            ]
          },
          "metadata": {},
          "output_type": "display_data"
        },
        {
          "data": {
            "text/plain": [
              "-2323920992.1609774"
            ]
          },
          "metadata": {},
          "output_type": "display_data"
        },
        {
          "data": {
            "text/plain": [
              "113940855.58039951"
            ]
          },
          "metadata": {},
          "output_type": "display_data"
        },
        {
          "data": {
            "text/plain": [
              "-347693081.08017474"
            ]
          },
          "metadata": {},
          "output_type": "display_data"
        },
        {
          "data": {
            "text/plain": [
              "16122057528.43714"
            ]
          },
          "metadata": {},
          "output_type": "display_data"
        },
        {
          "data": {
            "text/plain": [
              "-572855712689.7625"
            ]
          },
          "metadata": {},
          "output_type": "display_data"
        },
        {
          "data": {
            "text/plain": [
              "-286316065379.09143"
            ]
          },
          "metadata": {},
          "output_type": "display_data"
        },
        {
          "data": {
            "text/plain": [
              "111851293836.969"
            ]
          },
          "metadata": {},
          "output_type": "display_data"
        },
        {
          "data": {
            "text/plain": [
              "-285972271007.76733"
            ]
          },
          "metadata": {},
          "output_type": "display_data"
        },
        {
          "data": {
            "text/plain": [
              "-127474067295.63947"
            ]
          },
          "metadata": {},
          "output_type": "display_data"
        },
        {
          "data": {
            "text/plain": [
              "-51814735008.36542"
            ]
          },
          "metadata": {},
          "output_type": "display_data"
        },
        {
          "data": {
            "text/plain": [
              "387992599965.67377"
            ]
          },
          "metadata": {},
          "output_type": "display_data"
        },
        {
          "data": {
            "text/plain": [
              "-1208995620716.4585"
            ]
          },
          "metadata": {},
          "output_type": "display_data"
        },
        {
          "data": {
            "text/plain": [
              "133105524303071.44"
            ]
          },
          "metadata": {},
          "output_type": "display_data"
        },
        {
          "data": {
            "text/plain": [
              "17253660412757.188"
            ]
          },
          "metadata": {},
          "output_type": "display_data"
        },
        {
          "data": {
            "text/plain": [
              "-860844858672.5547"
            ]
          },
          "metadata": {},
          "output_type": "display_data"
        },
        {
          "data": {
            "text/plain": [
              "-428905307809.8281"
            ]
          },
          "metadata": {},
          "output_type": "display_data"
        },
        {
          "data": {
            "text/plain": [
              "119871212101.47711"
            ]
          },
          "metadata": {},
          "output_type": "display_data"
        },
        {
          "data": {
            "text/plain": [
              "-244673840830.58606"
            ]
          },
          "metadata": {},
          "output_type": "display_data"
        },
        {
          "data": {
            "text/plain": [
              "11446455950413.479"
            ]
          },
          "metadata": {},
          "output_type": "display_data"
        },
        {
          "data": {
            "text/plain": [
              "5541790193073.121"
            ]
          },
          "metadata": {},
          "output_type": "display_data"
        },
        {
          "data": {
            "text/plain": [
              "781643744347.2158"
            ]
          },
          "metadata": {},
          "output_type": "display_data"
        },
        {
          "data": {
            "text/plain": [
              "-201706936819.0138"
            ]
          },
          "metadata": {},
          "output_type": "display_data"
        },
        {
          "data": {
            "text/plain": [
              "184756164520.74567"
            ]
          },
          "metadata": {},
          "output_type": "display_data"
        },
        {
          "data": {
            "text/plain": [
              "57132212713.40982"
            ]
          },
          "metadata": {},
          "output_type": "display_data"
        },
        {
          "data": {
            "text/plain": [
              "24346360173.891167"
            ]
          },
          "metadata": {},
          "output_type": "display_data"
        },
        {
          "data": {
            "text/plain": [
              "12067560931.553526"
            ]
          },
          "metadata": {},
          "output_type": "display_data"
        },
        {
          "data": {
            "text/plain": [
              "-8819833504.83058"
            ]
          },
          "metadata": {},
          "output_type": "display_data"
        },
        {
          "data": {
            "text/plain": [
              "254578083351.1429"
            ]
          },
          "metadata": {},
          "output_type": "display_data"
        },
        {
          "data": {
            "text/plain": [
              "64467478630.85333"
            ]
          },
          "metadata": {},
          "output_type": "display_data"
        },
        {
          "data": {
            "text/plain": [
              "7633348746.252663"
            ]
          },
          "metadata": {},
          "output_type": "display_data"
        },
        {
          "data": {
            "text/plain": [
              "-4495660113.925539"
            ]
          },
          "metadata": {},
          "output_type": "display_data"
        },
        {
          "data": {
            "text/plain": [
              "22986930821.502335"
            ]
          },
          "metadata": {},
          "output_type": "display_data"
        },
        {
          "data": {
            "text/plain": [
              "499977782.8016777"
            ]
          },
          "metadata": {},
          "output_type": "display_data"
        },
        {
          "data": {
            "text/plain": [
              "-4902270310.966779"
            ]
          },
          "metadata": {},
          "output_type": "display_data"
        },
        {
          "data": {
            "text/plain": [
              "9179088852.190964"
            ]
          },
          "metadata": {},
          "output_type": "display_data"
        },
        {
          "data": {
            "text/plain": [
              "4163902666.9820595"
            ]
          },
          "metadata": {},
          "output_type": "display_data"
        },
        {
          "data": {
            "text/plain": [
              "2081666819.2278702"
            ]
          },
          "metadata": {},
          "output_type": "display_data"
        },
        {
          "data": {
            "text/plain": [
              "768518315.1808038"
            ]
          },
          "metadata": {},
          "output_type": "display_data"
        },
        {
          "data": {
            "text/plain": [
              "-194150007.58932233"
            ]
          },
          "metadata": {},
          "output_type": "display_data"
        },
        {
          "data": {
            "text/plain": [
              "1030932595.7724938"
            ]
          },
          "metadata": {},
          "output_type": "display_data"
        },
        {
          "data": {
            "text/plain": [
              "-3327326400.2301164"
            ]
          },
          "metadata": {},
          "output_type": "display_data"
        },
        {
          "data": {
            "text/plain": [
              "-1387186784.3979235"
            ]
          },
          "metadata": {},
          "output_type": "display_data"
        },
        {
          "data": {
            "text/plain": [
              "213817826.58670878"
            ]
          },
          "metadata": {},
          "output_type": "display_data"
        },
        {
          "data": {
            "text/plain": [
              "106375805.71326575"
            ]
          },
          "metadata": {},
          "output_type": "display_data"
        },
        {
          "data": {
            "text/plain": [
              "-53989087.85349861"
            ]
          },
          "metadata": {},
          "output_type": "display_data"
        },
        {
          "data": {
            "text/plain": [
              "-11795368.938032769"
            ]
          },
          "metadata": {},
          "output_type": "display_data"
        },
        {
          "data": {
            "text/plain": [
              "1892981.2784629334"
            ]
          },
          "metadata": {},
          "output_type": "display_data"
        },
        {
          "data": {
            "text/plain": [
              "-1670281.1263046833"
            ]
          },
          "metadata": {},
          "output_type": "display_data"
        },
        {
          "data": {
            "text/plain": [
              "14744240175.942543"
            ]
          },
          "metadata": {},
          "output_type": "display_data"
        },
        {
          "data": {
            "text/plain": [
              "5859787891.158817"
            ]
          },
          "metadata": {},
          "output_type": "display_data"
        },
        {
          "data": {
            "text/plain": [
              "-8005007494.569864"
            ]
          },
          "metadata": {},
          "output_type": "display_data"
        },
        {
          "data": {
            "text/plain": [
              "-76594934.74791145"
            ]
          },
          "metadata": {},
          "output_type": "display_data"
        },
        {
          "data": {
            "text/plain": [
              "10607727682.125711"
            ]
          },
          "metadata": {},
          "output_type": "display_data"
        },
        {
          "data": {
            "text/plain": [
              "-69116145231.07751"
            ]
          },
          "metadata": {},
          "output_type": "display_data"
        },
        {
          "data": {
            "text/plain": [
              "-34462947471.832855"
            ]
          },
          "metadata": {},
          "output_type": "display_data"
        }
      ],
      "source": [
        "#2\n",
        "import numpy as np\n",
        "#x=3 #a\n",
        "x=2 #b\n",
        "#x=1 #c\n",
        "#x=4 #d\n",
        "#x=3.99 #e\n",
        "for j in range(0,100):\n",
        "  x = x-(np.sin(x)+x)/(np.cos(x)+1)\n",
        "  display(x)\n",
        "\n",
        "  fc = np.sin(x)+x\n",
        "\n",
        "  if abs(fc) < 1e-5:\n",
        "    display(j)\n",
        "    break"
      ]
    },
    {
      "cell_type": "code",
      "execution_count": 8,
      "id": "TYs3x7Zfrur_",
      "metadata": {
        "colab": {
          "base_uri": "https://localhost:8080/",
          "height": 156
        },
        "id": "TYs3x7Zfrur_",
        "outputId": "674164db-28d4-4fe5-dfd4-cb10605cfc6f"
      },
      "outputs": [
        {
          "data": {
            "text/plain": [
              "array([0. , 0.1, 0.2, 0.3, 0.4, 0.5, 0.6, 0.7, 0.8, 0.9, 1. , 1.1, 1.2,\n",
              "       1.3, 1.4, 1.5, 1.6, 1.7, 1.8, 1.9, 2. , 2.1, 2.2, 2.3, 2.4, 2.5,\n",
              "       2.6, 2.7, 2.8, 2.9, 3. , 3.1, 3.2, 3.3, 3.4, 3.5, 3.6, 3.7, 3.8,\n",
              "       3.9, 4. ])"
            ]
          },
          "metadata": {},
          "output_type": "display_data"
        },
        {
          "data": {
            "text/plain": [
              "array([  0.,   1.,   1.,   1.,   1.,   1.,   2.,   2.,   2.,   2.,   2.,\n",
              "         2.,   2.,   2.,   3.,   3.,   3.,   4.,   6.,  87., 100.,   5.,\n",
              "         6., 100.,  10.,  15., 100., 100., 100.,   4., 100.,  27., 100.,\n",
              "       100., 100., 100.,   7.,   4., 100.,   4.,   5.])"
            ]
          },
          "metadata": {},
          "output_type": "display_data"
        }
      ],
      "source": [
        "#2e\n",
        "\n",
        "xvec = np.arange(0,4.1,0.1)\n",
        "display(xvec)\n",
        "itervec = xvec*0 #same size as xvec with all zeros\n",
        "\n",
        "for i in range(0,len(xvec)):\n",
        "  x=xvec[i]\n",
        "  for j in range(0,100): #nested for\n",
        "    x = x-(np.sin(x)+x)/(np.cos(x)+1)\n",
        "\n",
        "    fc = np.sin(x)+x\n",
        "\n",
        "    if abs(fc) < 1e-5:\n",
        "      itervec[i] = j #algorithm succeeds, record number of iterations\n",
        "      break #break out of current level of for loop only\n",
        "    itervec[i] = 100 #algorithm fails, reached max iterations\n",
        "\n",
        "display(itervec)"
      ]
    },
    {
      "cell_type": "code",
      "execution_count": 12,
      "id": "cc6owk7YJSwT",
      "metadata": {
        "colab": {
          "base_uri": "https://localhost:8080/",
          "height": 69
        },
        "id": "cc6owk7YJSwT",
        "outputId": "0d09d5b0-a268-4fb3-f270-6aaff0f5ee5f"
      },
      "outputs": [
        {
          "data": {
            "text/plain": [
              "4"
            ]
          },
          "metadata": {},
          "output_type": "display_data"
        },
        {
          "data": {
            "text/plain": [
              "array([ 4.00000000e+00,  3.99000000e+00, -5.46688755e+00,  1.49690794e-01,\n",
              "       -1.83509912e-01, -7.73842542e-05,  2.17500951e-07])"
            ]
          },
          "metadata": {},
          "output_type": "display_data"
        }
      ],
      "source": [
        "#3\n",
        "\n",
        "xvec = np.array([4, 3.99]) #list of all x\n",
        "\n",
        "for j in range(0,100):\n",
        "  xn = xvec[-1] #x_n = last entry in xvec\n",
        "  xnmo = xvec[-2] #x_(n-1) = second-to-last entry in xvec\n",
        "  fxn = np.sin(xn)+xn #f(x_n)\n",
        "  fxnmo = np.sin(xnmo)+xnmo #f(x_(n-1))\n",
        "\n",
        "  #iteration step\n",
        "  xnpo = xn - (fxn*(xn-xnmo))/(fxn-fxnmo) #x_(n+1)\n",
        "  xvec = np.append(xvec,xnpo)\n",
        "\n",
        "  #break out if within tolerance\n",
        "  if abs(np.sin(xnpo)+xnpo) < 1e-5:\n",
        "    break\n",
        "\n",
        "display(j) #display number of iterations taken\n",
        "display(xvec) #last value in xvec is our answer"
      ]
    },
    {
      "cell_type": "code",
      "execution_count": null,
      "id": "7VuOy8j9xnQt",
      "metadata": {
        "id": "7VuOy8j9xnQt"
      },
      "outputs": [],
      "source": []
    }
  ],
  "metadata": {
    "colab": {
      "provenance": []
    },
    "kernelspec": {
      "display_name": "base",
      "language": "python",
      "name": "python3"
    },
    "language_info": {
      "codemirror_mode": {
        "name": "ipython",
        "version": 3
      },
      "file_extension": ".py",
      "mimetype": "text/x-python",
      "name": "python",
      "nbconvert_exporter": "python",
      "pygments_lexer": "ipython3",
      "version": "3.12.7"
    }
  },
  "nbformat": 4,
  "nbformat_minor": 5
}
